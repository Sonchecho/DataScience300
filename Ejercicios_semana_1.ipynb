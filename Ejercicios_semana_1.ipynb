{
  "nbformat": 4,
  "nbformat_minor": 0,
  "metadata": {
    "colab": {
      "name": "Ejercicios semana 1.ipynb",
      "provenance": [],
      "authorship_tag": "ABX9TyPytu2EFY/Rg4IYPrN+1ErF",
      "include_colab_link": true
    },
    "kernelspec": {
      "name": "python3",
      "display_name": "Python 3"
    },
    "language_info": {
      "name": "python"
    }
  },
  "cells": [
    {
      "cell_type": "markdown",
      "metadata": {
        "id": "view-in-github",
        "colab_type": "text"
      },
      "source": [
        "<a href=\"https://colab.research.google.com/github/Sonchecho/DataScience300/blob/main/Ejercicios_semana_1.ipynb\" target=\"_parent\"><img src=\"https://colab.research.google.com/assets/colab-badge.svg\" alt=\"Open In Colab\"/></a>"
      ]
    },
    {
      "cell_type": "code",
      "metadata": {
        "colab": {
          "base_uri": "https://localhost:8080/"
        },
        "id": "aGQPGTW35iFZ",
        "outputId": "ae72dc2e-57e8-4932-f66f-8a31738fb0ae"
      },
      "source": [
        "from google.colab import drive\n",
        "import os\n",
        "drive.mount('/content/gdrive')"
      ],
      "execution_count": 1,
      "outputs": [
        {
          "output_type": "stream",
          "name": "stdout",
          "text": [
            "Mounted at /content/gdrive\n"
          ]
        }
      ]
    },
    {
      "cell_type": "code",
      "metadata": {
        "colab": {
          "base_uri": "https://localhost:8080/"
        },
        "id": "BIYGgC046h5T",
        "outputId": "adfb4268-ea66-4f72-a667-c50d9ba3a31d"
      },
      "source": [
        "%cd '/content/gdrive/MyDrive/Bootcamp semana 1 python /Bootcamp semana 1 python /Semana 1 PYTHON '"
      ],
      "execution_count": 3,
      "outputs": [
        {
          "output_type": "stream",
          "name": "stdout",
          "text": [
            "/content/gdrive/MyDrive/Bootcamp semana 1 python /Bootcamp semana 1 python /Semana 1 PYTHON \n"
          ]
        }
      ]
    },
    {
      "cell_type": "markdown",
      "metadata": {
        "id": "hKvW0pMk5u6w"
      },
      "source": [
        "## Ejericicio 1\n",
        "Creen un vector a entre 5 y 6 con intervalo de 0.2 y guardenlo en formato ```datos.npy``` y luego carguenlo con nombre b y muestrelo"
      ]
    },
    {
      "cell_type": "code",
      "metadata": {
        "id": "cDJtumqT5yTN"
      },
      "source": [
        ""
      ],
      "execution_count": null,
      "outputs": []
    }
  ]
}