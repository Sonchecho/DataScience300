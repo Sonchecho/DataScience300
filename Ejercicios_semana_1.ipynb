{
  "nbformat": 4,
  "nbformat_minor": 0,
  "metadata": {
    "colab": {
      "name": "Ejercicios semana 1.ipynb",
      "provenance": [],
      "collapsed_sections": [],
      "authorship_tag": "ABX9TyOeAs8tTc4flICPy4H+I0VY",
      "include_colab_link": true
    },
    "kernelspec": {
      "name": "python3",
      "display_name": "Python 3"
    },
    "language_info": {
      "name": "python"
    }
  },
  "cells": [
    {
      "cell_type": "markdown",
      "metadata": {
        "id": "view-in-github",
        "colab_type": "text"
      },
      "source": [
        "<a href=\"https://colab.research.google.com/github/Sonchecho/DataScience300/blob/main/Ejercicios_semana_1.ipynb\" target=\"_parent\"><img src=\"https://colab.research.google.com/assets/colab-badge.svg\" alt=\"Open In Colab\"/></a>"
      ]
    },
    {
      "cell_type": "code",
      "metadata": {
        "colab": {
          "base_uri": "https://localhost:8080/"
        },
        "id": "aGQPGTW35iFZ",
        "outputId": "ff35e29b-ae4e-4097-ec84-8e4b4c9dd646"
      },
      "source": [
        "from google.colab import drive\n",
        "import os\n",
        "drive.mount('/content/gdrive')"
      ],
      "execution_count": 4,
      "outputs": [
        {
          "output_type": "stream",
          "name": "stdout",
          "text": [
            "Mounted at /content/gdrive\n"
          ]
        }
      ]
    },
    {
      "cell_type": "code",
      "metadata": {
        "colab": {
          "base_uri": "https://localhost:8080/"
        },
        "id": "BIYGgC046h5T",
        "outputId": "4ae26984-2032-4299-eec3-ec88d8981e7d"
      },
      "source": [
        "%cd '/content/gdrive/MyDrive/Bootcamp semana 1 python /Bootcamp semana 1 python /Semana 1 PYTHON '"
      ],
      "execution_count": 5,
      "outputs": [
        {
          "output_type": "stream",
          "name": "stdout",
          "text": [
            "/content/gdrive/MyDrive/Bootcamp semana 1 python /Bootcamp semana 1 python /Semana 1 PYTHON \n"
          ]
        }
      ]
    },
    {
      "cell_type": "code",
      "metadata": {
        "id": "iCymUTusaugL"
      },
      "source": [
        ""
      ],
      "execution_count": null,
      "outputs": []
    },
    {
      "cell_type": "markdown",
      "metadata": {
        "id": "hKvW0pMk5u6w"
      },
      "source": [
        "## Ejericicio 1\n",
        "Creen un vector a entre 5 y 6 con intervalo de 0.2 y guardenlo en formato ```datos.npy``` y luego carguenlo con nombre b y muestrelo"
      ]
    },
    {
      "cell_type": "code",
      "metadata": {
        "id": "cDJtumqT5yTN",
        "colab": {
          "base_uri": "https://localhost:8080/"
        },
        "outputId": "97df099a-440a-483e-f778-1046c58fa36c"
      },
      "source": [
        "import numpy as np  \n",
        "a=np.arange(5,6,0.2)\n",
        "print(a)\n",
        "a.tofile('datos.npy')\n",
        "b=np.fromfile('datos.npy')\n",
        "b"
      ],
      "execution_count": 10,
      "outputs": [
        {
          "output_type": "stream",
          "name": "stdout",
          "text": [
            "[5.  5.2 5.4 5.6 5.8]\n"
          ]
        },
        {
          "output_type": "execute_result",
          "data": {
            "text/plain": [
              "array([5. , 5.2, 5.4, 5.6, 5.8])"
            ]
          },
          "metadata": {},
          "execution_count": 10
        }
      ]
    },
    {
      "cell_type": "markdown",
      "metadata": {
        "id": "U_s-wrL9joTs"
      },
      "source": [
        ""
      ]
    },
    {
      "cell_type": "markdown",
      "metadata": {
        "id": "d1GI_LD1j9oN"
      },
      "source": [
        ""
      ]
    },
    {
      "cell_type": "markdown",
      "metadata": {
        "id": "4eh9R6VfeifQ"
      },
      "source": [
        "## Ejercicio 2\n",
        "\n",
        "Cree un una matriz A con ```np.array```\n",
        "\n",
        "$$\\begin{bmatrix} \n",
        "\t1 & 3 & 5 \\\\\n",
        "\t11 & 9 & 7\\\\\n",
        "\t13 & 15 & 17 \\\\\n",
        "\t\\end{bmatrix}$$\n",
        "\n",
        "Luego de eso utilize el metodo ```np.sort``` con  el argumento ```axis =1``` or ```axis=0```\n",
        "\n",
        "A que conclusiones llegan? "
      ]
    },
    {
      "cell_type": "code",
      "metadata": {
        "colab": {
          "base_uri": "https://localhost:8080/"
        },
        "id": "DHjD17lxkOom",
        "outputId": "f881e736-53a8-4ef5-c5aa-c2133da2a333"
      },
      "source": [
        "A= np.array([[2,5,4],[8,9,1],[7,4,3]])\n",
        "print(A)\n",
        "print(np.sort(A,axis=1))\n",
        "B=np.sort(A,axis=1)\n",
        "print(B)\n",
        "\n",
        "C=np.sort(A,axis=0)\n",
        "\n",
        "print(C)\n"
      ],
      "execution_count": 13,
      "outputs": [
        {
          "output_type": "stream",
          "name": "stdout",
          "text": [
            "[[2 5 4]\n",
            " [8 9 1]\n",
            " [7 4 3]]\n",
            "[[2 4 5]\n",
            " [1 8 9]\n",
            " [3 4 7]]\n",
            "[[2 4 5]\n",
            " [1 8 9]\n",
            " [3 4 7]]\n",
            "[[2 4 1]\n",
            " [7 5 3]\n",
            " [8 9 4]]\n"
          ]
        }
      ]
    },
    {
      "cell_type": "markdown",
      "metadata": {
        "id": "rc0XPOBDfn7W"
      },
      "source": [
        "## Ejercicio 3\n",
        "\n",
        "Cree una matriz de 3x3 B, como la siguiente:\n",
        "\n",
        "$$\\begin{bmatrix} \n",
        "\t9 & 1 & 2 \\\\\n",
        "\t1 & 9 & 5\\\\\n",
        "\t2 & 5 & 9 \\\\\n",
        "\t\\end{bmatrix}$$\n",
        "\n",
        "1. Convierta la matriz a un vector de 1x9\n",
        "2. Ordene de de menor a mayor el vector\n",
        "3. Aplique un filtro para extraer solo los numeros menores que 9"
      ]
    },
    {
      "cell_type": "code",
      "metadata": {
        "colab": {
          "base_uri": "https://localhost:8080/"
        },
        "id": "Fg6Cx8SXjqX9",
        "outputId": "9924809f-259d-40b3-fe66-5b61643cd145"
      },
      "source": [
        "B=np.array([[1,3,2],[7,8,9],[5,6,4]])\n",
        "print(B)\n",
        "print('punto 1')\n",
        "\n",
        "x=B.reshape(1,9)\n",
        "print(x)\n",
        "\n",
        "print('punto 2')\n",
        "\n",
        "p=np.sort(x,axis=1)\n",
        "print(p)\n",
        "print(np.sort(x,axis=1))\n",
        "\n",
        "print('punto 3')\n",
        "\n",
        "condi=np.where(p<9,1,0)\n",
        "print(np.extract(condi,p))\n",
        "\n",
        "\n",
        "\n"
      ],
      "execution_count": 62,
      "outputs": [
        {
          "output_type": "stream",
          "name": "stdout",
          "text": [
            "[[1 3 2]\n",
            " [7 8 9]\n",
            " [5 6 4]]\n",
            "punto 1\n",
            "[[1 3 2 7 8 9 5 6 4]]\n",
            "punto 2\n",
            "[[1 2 3 4 5 6 7 8 9]]\n",
            "[[1 2 3 4 5 6 7 8 9]]\n",
            "punto 3\n",
            "[1 2 3 4 5 6 7 8]\n",
            "[0 1 2 3 4]\n"
          ]
        }
      ]
    }
  ]
}