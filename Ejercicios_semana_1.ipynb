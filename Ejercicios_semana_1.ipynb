{
  "nbformat": 4,
  "nbformat_minor": 0,
  "metadata": {
    "colab": {
      "name": "Ejercicios semana 1.ipynb",
      "provenance": [],
      "collapsed_sections": [],
      "authorship_tag": "ABX9TyPHrFewPMIA8EKGmSueCSQo",
      "include_colab_link": true
    },
    "kernelspec": {
      "name": "python3",
      "display_name": "Python 3"
    },
    "language_info": {
      "name": "python"
    }
  },
  "cells": [
    {
      "cell_type": "markdown",
      "metadata": {
        "id": "view-in-github",
        "colab_type": "text"
      },
      "source": [
        "<a href=\"https://colab.research.google.com/github/Sonchecho/DataScience300/blob/main/Ejercicios_semana_1.ipynb\" target=\"_parent\"><img src=\"https://colab.research.google.com/assets/colab-badge.svg\" alt=\"Open In Colab\"/></a>"
      ]
    },
    {
      "cell_type": "code",
      "metadata": {
        "colab": {
          "base_uri": "https://localhost:8080/"
        },
        "id": "aGQPGTW35iFZ",
        "outputId": "285239a3-85b1-47ab-b832-e896db85bcde"
      },
      "source": [
        "from google.colab import drive\n",
        "import os\n",
        "drive.mount('/content/gdrive')"
      ],
      "execution_count": 2,
      "outputs": [
        {
          "output_type": "stream",
          "name": "stdout",
          "text": [
            "Mounted at /content/gdrive\n"
          ]
        }
      ]
    },
    {
      "cell_type": "code",
      "metadata": {
        "colab": {
          "base_uri": "https://localhost:8080/"
        },
        "id": "BIYGgC046h5T",
        "outputId": "92dbc389-1d0e-4592-dc85-fb0879e7ff92"
      },
      "source": [
        "%cd '/content/gdrive/MyDrive/Bootcamp semana 1 python /Bootcamp semana 1 python /Semana 1 PYTHON '"
      ],
      "execution_count": 3,
      "outputs": [
        {
          "output_type": "stream",
          "name": "stdout",
          "text": [
            "/content/gdrive/MyDrive/Bootcamp semana 1 python /Bootcamp semana 1 python /Semana 1 PYTHON \n"
          ]
        }
      ]
    },
    {
      "cell_type": "code",
      "metadata": {
        "id": "iCymUTusaugL"
      },
      "source": [
        ""
      ],
      "execution_count": null,
      "outputs": []
    },
    {
      "cell_type": "markdown",
      "metadata": {
        "id": "hKvW0pMk5u6w"
      },
      "source": [
        "## Ejericicio 1\n",
        "Creen un vector a entre 5 y 6 con intervalo de 0.2 y guardenlo en formato ```datos.npy``` y luego carguenlo con nombre b y muestrelo"
      ]
    },
    {
      "cell_type": "code",
      "metadata": {
        "id": "cDJtumqT5yTN",
        "colab": {
          "base_uri": "https://localhost:8080/"
        },
        "outputId": "fdba577d-6b12-47e1-911d-2942937fcc50"
      },
      "source": [
        "import numpy as np  \n",
        "a=np.arange(5,6,0.2)\n",
        "print(a)\n",
        "a.tofile('datos.npy')\n",
        "b=np.fromfile('datos.npy')\n",
        "b"
      ],
      "execution_count": 5,
      "outputs": [
        {
          "output_type": "stream",
          "name": "stdout",
          "text": [
            "[5.  5.2 5.4 5.6 5.8]\n"
          ]
        },
        {
          "output_type": "execute_result",
          "data": {
            "text/plain": [
              "array([5. , 5.2, 5.4, 5.6, 5.8])"
            ]
          },
          "metadata": {},
          "execution_count": 5
        }
      ]
    },
    {
      "cell_type": "markdown",
      "metadata": {
        "id": "U_s-wrL9joTs"
      },
      "source": [
        ""
      ]
    },
    {
      "cell_type": "markdown",
      "metadata": {
        "id": "d1GI_LD1j9oN"
      },
      "source": [
        ""
      ]
    },
    {
      "cell_type": "markdown",
      "metadata": {
        "id": "4eh9R6VfeifQ"
      },
      "source": [
        "## Ejercicio 2\n",
        "\n",
        "Cree un una matriz A con ```np.array```\n",
        "\n",
        "$$\\begin{bmatrix} \n",
        "\t1 & 3 & 5 \\\\\n",
        "\t11 & 9 & 7\\\\\n",
        "\t13 & 15 & 17 \\\\\n",
        "\t\\end{bmatrix}$$\n",
        "\n",
        "Luego de eso utilize el metodo ```np.sort``` con  el argumento ```axis =1``` or ```axis=0```\n",
        "\n",
        "A que conclusiones llegan? "
      ]
    },
    {
      "cell_type": "code",
      "metadata": {
        "colab": {
          "base_uri": "https://localhost:8080/"
        },
        "id": "DHjD17lxkOom",
        "outputId": "f881e736-53a8-4ef5-c5aa-c2133da2a333"
      },
      "source": [
        "A= np.array([[2,5,4],[8,9,1],[7,4,3]])\n",
        "print(A)\n",
        "print(np.sort(A,axis=1))\n",
        "B=np.sort(A,axis=1)\n",
        "print(B)\n",
        "\n",
        "C=np.sort(A,axis=0)\n",
        "\n",
        "print(C)\n"
      ],
      "execution_count": null,
      "outputs": [
        {
          "output_type": "stream",
          "name": "stdout",
          "text": [
            "[[2 5 4]\n",
            " [8 9 1]\n",
            " [7 4 3]]\n",
            "[[2 4 5]\n",
            " [1 8 9]\n",
            " [3 4 7]]\n",
            "[[2 4 5]\n",
            " [1 8 9]\n",
            " [3 4 7]]\n",
            "[[2 4 1]\n",
            " [7 5 3]\n",
            " [8 9 4]]\n"
          ]
        }
      ]
    },
    {
      "cell_type": "markdown",
      "metadata": {
        "id": "rc0XPOBDfn7W"
      },
      "source": [
        "## Ejercicio 3\n",
        "\n",
        "Cree una matriz de 3x3 B, como la siguiente:\n",
        "\n",
        "$$\\begin{bmatrix} \n",
        "\t9 & 1 & 2 \\\\\n",
        "\t1 & 9 & 5\\\\\n",
        "\t2 & 5 & 9 \\\\\n",
        "\t\\end{bmatrix}$$\n",
        "\n",
        "1. Convierta la matriz a un vector de 1x9\n",
        "2. Ordene de de menor a mayor el vector\n",
        "3. Aplique un filtro para extraer solo los numeros menores que 9"
      ]
    },
    {
      "cell_type": "code",
      "metadata": {
        "colab": {
          "base_uri": "https://localhost:8080/"
        },
        "id": "Fg6Cx8SXjqX9",
        "outputId": "2d17f154-d5a2-41af-d148-9c971d3f3e78"
      },
      "source": [
        "B=np.array([[1,3,2],[7,8,9],[5,6,4]])\n",
        "print(B)\n",
        "print('punto 1')\n",
        "\n",
        "x=B.reshape(1,9)\n",
        "print(x)\n",
        "\n",
        "print('punto 2')\n",
        "\n",
        "p=np.sort(x,axis=1)\n",
        "print(p)\n",
        "print(np.sort(x,axis=1))\n",
        "\n",
        "print('punto 3')\n",
        "\n",
        "condi=np.where(p<9,1,0)\n",
        "print(np.extract(condi,p))\n",
        "\n",
        "\n",
        "\n"
      ],
      "execution_count": 6,
      "outputs": [
        {
          "output_type": "stream",
          "name": "stdout",
          "text": [
            "[[1 3 2]\n",
            " [7 8 9]\n",
            " [5 6 4]]\n",
            "punto 1\n",
            "[[1 3 2 7 8 9 5 6 4]]\n",
            "punto 2\n",
            "[[1 2 3 4 5 6 7 8 9]]\n",
            "[[1 2 3 4 5 6 7 8 9]]\n",
            "punto 3\n",
            "[1 2 3 4 5 6 7 8]\n"
          ]
        }
      ]
    },
    {
      "cell_type": "markdown",
      "metadata": {
        "id": "6IsS7EYml2eX"
      },
      "source": [
        "Cree una matriz de 3x3 C, como la siguiente:\n",
        "\n",
        "⎡⎣⎢123456789⎤⎦⎥ \n",
        "\n",
        "Calcule la media por cada columna\n",
        "Calcule la media por cada fila\n",
        "Obtenga la media por columnas dandole el doble de peso a la columna con mayores valores de la variable\n",
        "Calcule el percentil 25 por cada columna"
      ]
    },
    {
      "cell_type": "markdown",
      "metadata": {
        "id": "Sb4p_CzrhQeP"
      },
      "source": [
        "## Ejercicio 4\n",
        "\n",
        "Cree una matriz de 3x3 C, como la siguiente:\n",
        "\n",
        "$$\\begin{bmatrix} \n",
        "\t1 & 4 & 7 \\\\\n",
        "\t2 & 5 & 8\\\\\n",
        "\t3 & 6 & 9 \\\\\n",
        "\t\\end{bmatrix}$$\n",
        "\n",
        "1. Calcule la media por cada columna\n",
        "2. Calcule la media por cada fila\n",
        "3. Obtenga la media por columnas dandole el doble de peso a la columna con mayores valores de la variable\n",
        "4. Calcule el percentil 25 por cada columna"
      ]
    },
    {
      "cell_type": "code",
      "metadata": {
        "colab": {
          "base_uri": "https://localhost:8080/"
        },
        "id": "kDvOI0Pyl7k_",
        "outputId": "b29550c0-83cf-4c29-aa05-b1281e177d11"
      },
      "source": [
        "C=np.array([[2,4,5,],[9,5,7],[8,2,6]])\n",
        "print(C)\n",
        "\n",
        "print('punto 2')\n",
        "\n",
        "print(np.median(C,axis=1))\n",
        "print(np.mean(C, axis=1))\n",
        "print('punto 3')\n",
        "\n",
        "\n",
        "print(np.average(C,axis=1, weights=(1,1,2)))\n",
        "\n",
        "print('punto 4')\n",
        "print(np.percentile(C,25,axis=0))\n",
        "\n"
      ],
      "execution_count": 20,
      "outputs": [
        {
          "output_type": "stream",
          "name": "stdout",
          "text": [
            "[[2 4 5]\n",
            " [9 5 7]\n",
            " [8 2 6]]\n",
            "punto 2\n",
            "[4. 7. 6.]\n",
            "[3.66666667 7.         5.33333333]\n",
            "punto 3\n",
            "[4.  7.  5.5]\n",
            "punto 4\n",
            "[5.  3.  5.5]\n"
          ]
        }
      ]
    }
  ]
}