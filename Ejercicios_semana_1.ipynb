{
  "nbformat": 4,
  "nbformat_minor": 0,
  "metadata": {
    "colab": {
      "name": "Ejercicios semana 1.ipynb",
      "provenance": [],
      "collapsed_sections": [],
      "authorship_tag": "ABX9TyNkkdcpi/PTJYJlO5TAFzB1",
      "include_colab_link": true
    },
    "kernelspec": {
      "name": "python3",
      "display_name": "Python 3"
    },
    "language_info": {
      "name": "python"
    }
  },
  "cells": [
    {
      "cell_type": "markdown",
      "metadata": {
        "id": "view-in-github",
        "colab_type": "text"
      },
      "source": [
        "<a href=\"https://colab.research.google.com/github/Sonchecho/DataScience300/blob/main/Ejercicios_semana_1.ipynb\" target=\"_parent\"><img src=\"https://colab.research.google.com/assets/colab-badge.svg\" alt=\"Open In Colab\"/></a>"
      ]
    },
    {
      "cell_type": "markdown",
      "metadata": {
        "id": "KNgs7cfcznfd"
      },
      "source": [
        "\n",
        "**EJERCICIOS SEMANA 1**\n",
        "\n"
      ]
    },
    {
      "cell_type": "code",
      "metadata": {
        "colab": {
          "base_uri": "https://localhost:8080/"
        },
        "id": "aGQPGTW35iFZ",
        "outputId": "4e25934d-28a4-45a5-f4b3-4172699462b2"
      },
      "source": [
        "from google.colab import drive\n",
        "import os\n",
        "drive.mount('/content/gdrive')"
      ],
      "execution_count": 2,
      "outputs": [
        {
          "output_type": "stream",
          "name": "stdout",
          "text": [
            "Mounted at /content/gdrive\n"
          ]
        }
      ]
    },
    {
      "cell_type": "code",
      "metadata": {
        "colab": {
          "base_uri": "https://localhost:8080/"
        },
        "id": "BIYGgC046h5T",
        "outputId": "e25cb160-726a-422b-e498-573b44b3196c"
      },
      "source": [
        "%cd '/content/gdrive/MyDrive/Bootcamp semana 1 python /Bootcamp semana 1 python /Semana 1 PYTHON '"
      ],
      "execution_count": 5,
      "outputs": [
        {
          "output_type": "stream",
          "name": "stdout",
          "text": [
            "[Errno 2] No such file or directory: '/content/gdrive/MyDrive/Bootcamp semana 1 python /Bootcamp semana 1 python /Semana 1 PYTHON '\n",
            "/content\n"
          ]
        }
      ]
    },
    {
      "cell_type": "code",
      "metadata": {
        "id": "iCymUTusaugL"
      },
      "source": [
        ""
      ],
      "execution_count": null,
      "outputs": []
    },
    {
      "cell_type": "markdown",
      "metadata": {
        "id": "hKvW0pMk5u6w"
      },
      "source": [
        "## Ejericicio 1\n",
        "Creen un vector a entre 5 y 6 con intervalo de 0.2 y guardenlo en formato ```datos.npy``` y luego carguenlo con nombre b y muestrelo"
      ]
    },
    {
      "cell_type": "code",
      "metadata": {
        "id": "cDJtumqT5yTN",
        "colab": {
          "base_uri": "https://localhost:8080/"
        },
        "outputId": "2222b855-ed60-4ca7-8774-dadf1498f7b7"
      },
      "source": [
        "import numpy as np  \n",
        "a=np.arange(5,6,0.2)\n",
        "print(a)\n",
        "a.tofile('datos.npy')\n",
        "b=np.fromfile('datos.npy')\n",
        "b"
      ],
      "execution_count": 4,
      "outputs": [
        {
          "output_type": "stream",
          "name": "stdout",
          "text": [
            "[5.  5.2 5.4 5.6 5.8]\n"
          ]
        },
        {
          "output_type": "execute_result",
          "data": {
            "text/plain": [
              "array([5. , 5.2, 5.4, 5.6, 5.8])"
            ]
          },
          "metadata": {},
          "execution_count": 4
        }
      ]
    },
    {
      "cell_type": "markdown",
      "metadata": {
        "id": "4eh9R6VfeifQ"
      },
      "source": [
        "## Ejercicio 2\n",
        "\n",
        "Cree un una matriz A con ```np.array```\n",
        "\n",
        "$$\\begin{bmatrix} \n",
        "\t1 & 3 & 5 \\\\\n",
        "\t11 & 9 & 7\\\\\n",
        "\t13 & 15 & 17 \\\\\n",
        "\t\\end{bmatrix}$$\n",
        "\n",
        "Luego de eso utilize el metodo ```np.sort``` con  el argumento ```axis =1``` or ```axis=0```\n",
        "\n",
        "A que conclusiones llegan? "
      ]
    },
    {
      "cell_type": "code",
      "metadata": {
        "colab": {
          "base_uri": "https://localhost:8080/"
        },
        "id": "DHjD17lxkOom",
        "outputId": "2e361466-5e51-4c63-f4e2-44a9fd0f1a21"
      },
      "source": [
        "A= np.array([[2,5,4],[8,9,1],[7,4,3]])\n",
        "print(A)\n",
        "print(np.sort(A,axis=1))\n",
        "B=np.sort(A,axis=1)\n",
        "print(B)\n",
        "\n",
        "C=np.sort(A,axis=0)\n",
        "\n",
        "print(C)\n"
      ],
      "execution_count": 6,
      "outputs": [
        {
          "output_type": "stream",
          "name": "stdout",
          "text": [
            "[[2 5 4]\n",
            " [8 9 1]\n",
            " [7 4 3]]\n",
            "[[2 4 5]\n",
            " [1 8 9]\n",
            " [3 4 7]]\n",
            "[[2 4 5]\n",
            " [1 8 9]\n",
            " [3 4 7]]\n",
            "[[2 4 1]\n",
            " [7 5 3]\n",
            " [8 9 4]]\n"
          ]
        }
      ]
    },
    {
      "cell_type": "markdown",
      "metadata": {
        "id": "rc0XPOBDfn7W"
      },
      "source": [
        "## Ejercicio 3\n",
        "\n",
        "Cree una matriz de 3x3 B, como la siguiente:\n",
        "\n",
        "$$\\begin{bmatrix} \n",
        "\t9 & 1 & 2 \\\\\n",
        "\t1 & 9 & 5\\\\\n",
        "\t2 & 5 & 9 \\\\\n",
        "\t\\end{bmatrix}$$\n",
        "\n",
        "1. Convierta la matriz a un vector de 1x9\n",
        "2. Ordene de de menor a mayor el vector\n",
        "3. Aplique un filtro para extraer solo los numeros menores que 9"
      ]
    },
    {
      "cell_type": "code",
      "metadata": {
        "colab": {
          "base_uri": "https://localhost:8080/"
        },
        "id": "Fg6Cx8SXjqX9",
        "outputId": "c615a781-abb9-4081-ae9d-49db08d3efb5"
      },
      "source": [
        "B=np.array([[1,3,2],[7,8,9],[5,6,4]])\n",
        "print(B)\n",
        "print('punto 1')\n",
        "\n",
        "x=B.reshape(1,9)\n",
        "print(x)\n",
        "\n",
        "print('punto 2')\n",
        "\n",
        "p=np.sort(x,axis=1)\n",
        "print(p)\n",
        "print(np.sort(x,axis=1))\n",
        "\n",
        "print('punto 3')\n",
        "\n",
        "condi=np.where(p<9,1,0)\n",
        "print(np.extract(condi,p))\n",
        "\n",
        "\n",
        "\n"
      ],
      "execution_count": 7,
      "outputs": [
        {
          "output_type": "stream",
          "name": "stdout",
          "text": [
            "[[1 3 2]\n",
            " [7 8 9]\n",
            " [5 6 4]]\n",
            "punto 1\n",
            "[[1 3 2 7 8 9 5 6 4]]\n",
            "punto 2\n",
            "[[1 2 3 4 5 6 7 8 9]]\n",
            "[[1 2 3 4 5 6 7 8 9]]\n",
            "punto 3\n",
            "[1 2 3 4 5 6 7 8]\n"
          ]
        }
      ]
    },
    {
      "cell_type": "markdown",
      "metadata": {
        "id": "Sb4p_CzrhQeP"
      },
      "source": [
        "## Ejercicio 4\n",
        "\n",
        "Cree una matriz de 3x3 C, como la siguiente:\n",
        "\n",
        "$$\\begin{bmatrix} \n",
        "\t1 & 4 & 7 \\\\\n",
        "\t2 & 5 & 8\\\\\n",
        "\t3 & 6 & 9 \\\\\n",
        "\t\\end{bmatrix}$$\n",
        "\n",
        "1. Calcule la media por cada columna\n",
        "2. Calcule la media por cada fila\n",
        "3. Obtenga la media por columnas dandole el doble de peso a la columna con mayores valores de la variable\n",
        "4. Calcule el percentil 25 por cada columna"
      ]
    },
    {
      "cell_type": "code",
      "metadata": {
        "colab": {
          "base_uri": "https://localhost:8080/"
        },
        "id": "kDvOI0Pyl7k_",
        "outputId": "7e4cfa5a-0fe9-4c18-a36d-bdc86eaa9b63"
      },
      "source": [
        "C=np.array([[1,4,7,],[2,5,8],[3,6,9]])\n",
        "print(C)\n",
        "\n",
        "print('punto 2')\n",
        "\n",
        "print(np.mean(C,axis=1))\n",
        "print(np.mean(C, axis=0))\n",
        "print('punto 3')\n",
        "\n",
        "\n",
        "print(np.average(C,axis=1, weights=(1,1,2)))\n",
        "\n",
        "print('punto 4')\n",
        "print(np.percentile(C,25,axis=1))\n",
        "\n"
      ],
      "execution_count": 8,
      "outputs": [
        {
          "output_type": "stream",
          "name": "stdout",
          "text": [
            "[[1 4 7]\n",
            " [2 5 8]\n",
            " [3 6 9]]\n",
            "punto 2\n",
            "[4. 5. 6.]\n",
            "[2. 5. 8.]\n",
            "punto 3\n",
            "[4.75 5.75 6.75]\n",
            "punto 4\n",
            "[2.5 3.5 4.5]\n"
          ]
        }
      ]
    },
    {
      "cell_type": "markdown",
      "metadata": {
        "id": "qRGnJjerjBkT"
      },
      "source": [
        "## Ejercicio 5\n",
        "\n",
        "Carguen la imagen data_science que se encuentra en el siguiente link: [texto del enlace](https://drive.google.com/file/d/1LoGybQ8t9g6orVp8Wh0uqU7BXY0kCzlh/view?usp=sharing) en la semana 1 del Bootcamp y realicen los siguientes procedimientos\n",
        "\n",
        "1. Muestrar la imagen tal como viene\n",
        "2. Averiguen que es un pixel y determinen cuantos pixeles tiene la imagen\n",
        "3. Recortar la imagen donde solo aparezca la palabra DATA\n",
        "4. Convertir la imagen a matriz y aplicar la funcion coseno\n",
        "5. Reemplazar los valores menores que 100 en la imagen original por 180 y graficar ¿Que observan, que modificaciones ocurrieron y porque?. **Sugerencia:** *Busquen acerca de que es la escala RGB y seguro comprenderan mejor*"
      ]
    },
    {
      "cell_type": "code",
      "metadata": {
        "colab": {
          "base_uri": "https://localhost:8080/"
        },
        "id": "5scG94T16xP-",
        "outputId": "21de275d-70cd-48fb-e5f6-408f8b8b0623"
      },
      "source": [
        "from google.colab import drive\n",
        "import os\n",
        "drive.mount('/content/gdrive')"
      ],
      "execution_count": 10,
      "outputs": [
        {
          "output_type": "stream",
          "name": "stdout",
          "text": [
            "Drive already mounted at /content/gdrive; to attempt to forcibly remount, call drive.mount(\"/content/gdrive\", force_remount=True).\n"
          ]
        }
      ]
    },
    {
      "cell_type": "code",
      "metadata": {
        "colab": {
          "base_uri": "https://localhost:8080/"
        },
        "id": "w8XJWx5j6kSO",
        "outputId": "53ffb303-fc65-48c2-882a-10e33fc70a83"
      },
      "source": [
        "import os\n",
        "print(os.getcwd())\n",
        "print(os.getcwd())"
      ],
      "execution_count": 12,
      "outputs": [
        {
          "output_type": "stream",
          "name": "stdout",
          "text": [
            "/content\n",
            "/content\n"
          ]
        }
      ]
    },
    {
      "cell_type": "code",
      "metadata": {
        "id": "VyKowRsp7Wkm"
      },
      "source": [
        "from skimage import io"
      ],
      "execution_count": 13,
      "outputs": []
    },
    {
      "cell_type": "code",
      "metadata": {
        "id": "FwiWHIvj7t2V"
      },
      "source": [
        "dataimagen=io.imread('/content/gdrive/MyDrive/Bootcamp semana 1 python /Bootcamp  python /Semana 1 PYTHON /data_science.jpg')"
      ],
      "execution_count": 22,
      "outputs": []
    },
    {
      "cell_type": "code",
      "metadata": {
        "colab": {
          "base_uri": "https://localhost:8080/"
        },
        "id": "uQJ5r2nc8alG",
        "outputId": "32eee618-920e-42e8-983a-3da9699801a6"
      },
      "source": [
        "imagen.shape"
      ],
      "execution_count": 23,
      "outputs": [
        {
          "output_type": "execute_result",
          "data": {
            "text/plain": [
              "(743, 1320, 3)"
            ]
          },
          "metadata": {},
          "execution_count": 23
        }
      ]
    },
    {
      "cell_type": "code",
      "metadata": {
        "colab": {
          "base_uri": "https://localhost:8080/",
          "height": 258
        },
        "id": "Jv2_ovWy8xN2",
        "outputId": "a855f954-8239-48ae-8824-a026d58cdb4b"
      },
      "source": [
        "import matplotlib.pyplot as plt\n",
        "%matplotlib inline  \n",
        "plt.imshow(dataimagen)\n",
        "\n",
        "\n"
      ],
      "execution_count": 34,
      "outputs": [
        {
          "output_type": "execute_result",
          "data": {
            "text/plain": [
              "<matplotlib.image.AxesImage at 0x7fbc9312e6d0>"
            ]
          },
          "metadata": {},
          "execution_count": 34
        },
        {
          "output_type": "display_data",
          "data": {
            "image/png": "[encoded data removed]",
            "text/plain": [
              "<Figure size 432x288 with 1 Axes>"
            ]
          },
          "metadata": {
            "needs_background": "light"
          }
        }
      ]
    },
    {
      "cell_type": "markdown",
      "metadata": {
        "id": "dorf9BvH7tll"
      },
      "source": [
        ""
      ]
    },
    {
      "cell_type": "markdown",
      "metadata": {
        "id": "7-y0JA-t7oI1"
      },
      "source": [
        "imagen=io.imread"
      ]
    },
    {
      "cell_type": "markdown",
      "metadata": {
        "id": "u_ND1NshzmGX"
      },
      "source": [
        "**EJERCICIOS SEMANA 2**\n"
      ]
    },
    {
      "cell_type": "markdown",
      "metadata": {
        "id": "I4j9xr8Rx5gD"
      },
      "source": [
        "## Ejercicio 1 : Listas\n",
        "\n",
        "Tienen la siguiente lista🏀⚾⚽🥤⭐\n",
        "\n",
        "```list1 = [10, 20, [300, 400, [5000, 6000], 500], 30, 40]```\n",
        "\n",
        "Se desea obtener el siguiente output **pero** usando solo el metódo ```append```:\n",
        "\n",
        "```[10, 20, [300, 400, [5000, 6000, 7000], 500], 30, 40]```"
      ]
    },
    {
      "cell_type": "code",
      "metadata": {
        "colab": {
          "base_uri": "https://localhost:8080/",
          "height": 234
        },
        "id": "VnxlKeejz8Z-",
        "outputId": "c43966ed-a0fa-407d-992c-18ce80defd38"
      },
      "source": [
        "lista=[10, 20, [300, 400, [5000, 6000], 500], 30, 40]\n",
        "lista[2][2].append(7000)\n",
        "print(lista)\n",
        "\n",
        "lista1=[10, 20, [300, 400, [5000, 6000], 500], 30, 40]\n",
        "\n",
        "lista1[3].index(6000)\n",
        "print(lista1)\n"
      ],
      "execution_count": 9,
      "outputs": [
        {
          "output_type": "stream",
          "name": "stdout",
          "text": [
            "[10, 20, [300, 400, [5000, 6000, 7000], 500], 30, 40]\n"
          ]
        },
        {
          "output_type": "error",
          "ename": "AttributeError",
          "evalue": "ignored",
          "traceback": [
            "\u001b[0;31m---------------------------------------------------------------------------\u001b[0m",
            "\u001b[0;31mAttributeError\u001b[0m                            Traceback (most recent call last)",
            "\u001b[0;32m<ipython-input-9-894595b119ad>\u001b[0m in \u001b[0;36m<module>\u001b[0;34m()\u001b[0m\n\u001b[1;32m      5\u001b[0m \u001b[0mlista1\u001b[0m\u001b[0;34m=\u001b[0m\u001b[0;34m[\u001b[0m\u001b[0;36m10\u001b[0m\u001b[0;34m,\u001b[0m \u001b[0;36m20\u001b[0m\u001b[0;34m,\u001b[0m \u001b[0;34m[\u001b[0m\u001b[0;36m300\u001b[0m\u001b[0;34m,\u001b[0m \u001b[0;36m400\u001b[0m\u001b[0;34m,\u001b[0m \u001b[0;34m[\u001b[0m\u001b[0;36m5000\u001b[0m\u001b[0;34m,\u001b[0m \u001b[0;36m6000\u001b[0m\u001b[0;34m]\u001b[0m\u001b[0;34m,\u001b[0m \u001b[0;36m500\u001b[0m\u001b[0;34m]\u001b[0m\u001b[0;34m,\u001b[0m \u001b[0;36m30\u001b[0m\u001b[0;34m,\u001b[0m \u001b[0;36m40\u001b[0m\u001b[0;34m]\u001b[0m\u001b[0;34m\u001b[0m\u001b[0;34m\u001b[0m\u001b[0m\n\u001b[1;32m      6\u001b[0m \u001b[0;34m\u001b[0m\u001b[0m\n\u001b[0;32m----> 7\u001b[0;31m \u001b[0mlista1\u001b[0m\u001b[0;34m[\u001b[0m\u001b[0;36m3\u001b[0m\u001b[0;34m]\u001b[0m\u001b[0;34m.\u001b[0m\u001b[0mindex\u001b[0m\u001b[0;34m(\u001b[0m\u001b[0;36m6000\u001b[0m\u001b[0;34m)\u001b[0m\u001b[0;34m\u001b[0m\u001b[0;34m\u001b[0m\u001b[0m\n\u001b[0m\u001b[1;32m      8\u001b[0m \u001b[0mprint\u001b[0m\u001b[0;34m(\u001b[0m\u001b[0mlista1\u001b[0m\u001b[0;34m)\u001b[0m\u001b[0;34m\u001b[0m\u001b[0;34m\u001b[0m\u001b[0m\n",
            "\u001b[0;31mAttributeError\u001b[0m: 'int' object has no attribute 'index'"
          ]
        }
      ]
    },
    {
      "cell_type": "code",
      "metadata": {
        "id": "FflaApaHy2bt",
        "colab": {
          "base_uri": "https://localhost:8080/"
        },
        "outputId": "d6f1fa13-7b4d-49e6-d23f-ef358754bc34"
      },
      "source": [
        "lista=[10, 20, [300, 400, [5000, 6000], 500], 30, 40]\n",
        "lista[2][2].append(7000)\n",
        "print(lista)"
      ],
      "execution_count": null,
      "outputs": [
        {
          "output_type": "stream",
          "name": "stdout",
          "text": [
            "[10, 20, [300, 400, [5000, 6000, 7000], 500], 30, 40]\n"
          ]
        }
      ]
    }
  ]
}