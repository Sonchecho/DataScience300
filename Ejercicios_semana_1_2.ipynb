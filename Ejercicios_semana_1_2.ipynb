{
  "nbformat": 4,
  "nbformat_minor": 0,
  "metadata": {
    "colab": {
      "name": "Ejercicios semana 1-2.ipynb",
      "provenance": [],
      "collapsed_sections": [],
      "authorship_tag": "ABX9TyPHBzhSrnNeZUXz28L9DQzn",
      "include_colab_link": true
    },
    "kernelspec": {
      "name": "python3",
      "display_name": "Python 3"
    },
    "language_info": {
      "name": "python"
    }
  },
  "cells": [
    {
      "cell_type": "markdown",
      "metadata": {
        "id": "view-in-github",
        "colab_type": "text"
      },
      "source": [
        "<a href=\"https://colab.research.google.com/github/Sonchecho/DataScience300/blob/main/Ejercicios_semana_1_2.ipynb\" target=\"_parent\"><img src=\"https://colab.research.google.com/assets/colab-badge.svg\" alt=\"Open In Colab\"/></a>"
      ]
    },
    {
      "cell_type": "markdown",
      "metadata": {
        "id": "KNgs7cfcznfd"
      },
      "source": [
        "\n",
        "**EJERCICIOS SEMANA 1**\n",
        "\n"
      ]
    },
    {
      "cell_type": "code",
      "metadata": {
        "colab": {
          "base_uri": "https://localhost:8080/"
        },
        "id": "aGQPGTW35iFZ",
        "outputId": "1ed95367-2f2a-4d80-8b8a-38f66e2fc238"
      },
      "source": [
        "from google.colab import drive\n",
        "import os\n",
        "drive.mount('/content/gdrive')"
      ],
      "execution_count": null,
      "outputs": [
        {
          "output_type": "stream",
          "name": "stdout",
          "text": [
            "Mounted at /content/gdrive\n"
          ]
        }
      ]
    },
    {
      "cell_type": "code",
      "metadata": {
        "colab": {
          "base_uri": "https://localhost:8080/"
        },
        "id": "BIYGgC046h5T",
        "outputId": "5ba52056-6ce5-4d9b-b853-ec11004a5d6b"
      },
      "source": [
        "%cd '/content/gdrive/MyDrive/Bootcamp semana 1 python /Bootcamp semana 1 python /Semana 1 PYTHON '"
      ],
      "execution_count": null,
      "outputs": [
        {
          "output_type": "stream",
          "name": "stdout",
          "text": [
            "[Errno 2] No such file or directory: '/content/gdrive/MyDrive/Bootcamp semana 1 python /Bootcamp semana 1 python /Semana 1 PYTHON '\n",
            "/content\n"
          ]
        }
      ]
    },
    {
      "cell_type": "code",
      "metadata": {
        "id": "iCymUTusaugL"
      },
      "source": [
        ""
      ],
      "execution_count": null,
      "outputs": []
    },
    {
      "cell_type": "markdown",
      "metadata": {
        "id": "hKvW0pMk5u6w"
      },
      "source": [
        "## Ejericicio 1\n",
        "Creen un vector a entre 5 y 6 con intervalo de 0.2 y guardenlo en formato ```datos.npy``` y luego carguenlo con nombre b y muestrelo"
      ]
    },
    {
      "cell_type": "code",
      "metadata": {
        "id": "cDJtumqT5yTN",
        "colab": {
          "base_uri": "https://localhost:8080/"
        },
        "outputId": "88445907-acb9-4a18-88d1-8022fd44d380"
      },
      "source": [
        "import numpy as np  \n",
        "a=np.arange(5,6,0.2)\n",
        "print(a)\n",
        "a.tofile('datos.npy')\n",
        "b=np.fromfile('datos.npy')\n",
        "b"
      ],
      "execution_count": null,
      "outputs": [
        {
          "output_type": "stream",
          "name": "stdout",
          "text": [
            "[5.  5.2 5.4 5.6 5.8]\n"
          ]
        },
        {
          "output_type": "execute_result",
          "data": {
            "text/plain": [
              "array([5. , 5.2, 5.4, 5.6, 5.8])"
            ]
          },
          "metadata": {},
          "execution_count": 3
        }
      ]
    },
    {
      "cell_type": "markdown",
      "metadata": {
        "id": "4eh9R6VfeifQ"
      },
      "source": [
        "## Ejercicio 2\n",
        "\n",
        "Cree un una matriz A con ```np.array```\n",
        "\n",
        "$$\\begin{bmatrix} \n",
        "\t1 & 3 & 5 \\\\\n",
        "\t11 & 9 & 7\\\\\n",
        "\t13 & 15 & 17 \\\\\n",
        "\t\\end{bmatrix}$$\n",
        "\n",
        "Luego de eso utilize el metodo ```np.sort``` con  el argumento ```axis =1``` or ```axis=0```\n",
        "\n",
        "A que conclusiones llegan? "
      ]
    },
    {
      "cell_type": "code",
      "metadata": {
        "colab": {
          "base_uri": "https://localhost:8080/"
        },
        "id": "DHjD17lxkOom",
        "outputId": "68bf58f2-6eab-44e0-ec99-c138b235c304"
      },
      "source": [
        "A= np.array([[2,5,4],[8,9,1],[7,4,3]])\n",
        "print(A)\n",
        "print(np.sort(A,axis=1))\n",
        "B=np.sort(A,axis=1)\n",
        "print(B)\n",
        "\n",
        "C=np.sort(A,axis=0)\n",
        "\n",
        "print(C)\n"
      ],
      "execution_count": null,
      "outputs": [
        {
          "output_type": "stream",
          "name": "stdout",
          "text": [
            "[[2 5 4]\n",
            " [8 9 1]\n",
            " [7 4 3]]\n",
            "[[2 4 5]\n",
            " [1 8 9]\n",
            " [3 4 7]]\n",
            "[[2 4 5]\n",
            " [1 8 9]\n",
            " [3 4 7]]\n",
            "[[2 4 1]\n",
            " [7 5 3]\n",
            " [8 9 4]]\n"
          ]
        }
      ]
    },
    {
      "cell_type": "markdown",
      "metadata": {
        "id": "rc0XPOBDfn7W"
      },
      "source": [
        "## Ejercicio 3\n",
        "\n",
        "Cree una matriz de 3x3 B, como la siguiente:\n",
        "\n",
        "$$\\begin{bmatrix} \n",
        "\t9 & 1 & 2 \\\\\n",
        "\t1 & 9 & 5\\\\\n",
        "\t2 & 5 & 9 \\\\\n",
        "\t\\end{bmatrix}$$\n",
        "\n",
        "1. Convierta la matriz a un vector de 1x9\n",
        "2. Ordene de de menor a mayor el vector\n",
        "3. Aplique un filtro para extraer solo los numeros menores que 9"
      ]
    },
    {
      "cell_type": "code",
      "metadata": {
        "colab": {
          "base_uri": "https://localhost:8080/"
        },
        "id": "Fg6Cx8SXjqX9",
        "outputId": "5fde8ea9-d02c-4208-88eb-1766cfd32a86"
      },
      "source": [
        "B=np.array([[1,3,2],[7,8,9],[5,6,4]])\n",
        "print(B)\n",
        "print('punto 1')\n",
        "\n",
        "x=B.reshape(1,9)\n",
        "print(x)\n",
        "\n",
        "print('punto 2')\n",
        "\n",
        "p=np.sort(x,axis=1)\n",
        "print(p)\n",
        "print(np.sort(x,axis=1))\n",
        "\n",
        "print('punto 3')\n",
        "\n",
        "condi=np.where(p<9,1,0)\n",
        "print(np.extract(condi,p))\n",
        "\n",
        "\n",
        "\n"
      ],
      "execution_count": null,
      "outputs": [
        {
          "output_type": "stream",
          "name": "stdout",
          "text": [
            "[[1 3 2]\n",
            " [7 8 9]\n",
            " [5 6 4]]\n",
            "punto 1\n",
            "[[1 3 2 7 8 9 5 6 4]]\n",
            "punto 2\n",
            "[[1 2 3 4 5 6 7 8 9]]\n",
            "[[1 2 3 4 5 6 7 8 9]]\n",
            "punto 3\n",
            "[1 2 3 4 5 6 7 8]\n"
          ]
        }
      ]
    },
    {
      "cell_type": "markdown",
      "metadata": {
        "id": "Sb4p_CzrhQeP"
      },
      "source": [
        "## Ejercicio 4\n",
        "\n",
        "Cree una matriz de 3x3 C, como la siguiente:\n",
        "\n",
        "$$\\begin{bmatrix} \n",
        "\t1 & 4 & 7 \\\\\n",
        "\t2 & 5 & 8\\\\\n",
        "\t3 & 6 & 9 \\\\\n",
        "\t\\end{bmatrix}$$\n",
        "\n",
        "1. Calcule la media por cada columna\n",
        "2. Calcule la media por cada fila\n",
        "3. Obtenga la media por columnas dandole el doble de peso a la columna con mayores valores de la variable\n",
        "4. Calcule el percentil 25 por cada columna"
      ]
    },
    {
      "cell_type": "code",
      "metadata": {
        "colab": {
          "base_uri": "https://localhost:8080/"
        },
        "id": "kDvOI0Pyl7k_",
        "outputId": "7e4cfa5a-0fe9-4c18-a36d-bdc86eaa9b63"
      },
      "source": [
        "C=np.array([[1,4,7,],[2,5,8],[3,6,9]])\n",
        "print(C)\n",
        "\n",
        "print('punto 2')\n",
        "\n",
        "print(np.mean(C,axis=1))\n",
        "print(np.mean(C, axis=0))\n",
        "print('punto 3')\n",
        "\n",
        "\n",
        "print(np.average(C,axis=1, weights=(1,1,2)))\n",
        "\n",
        "print('punto 4')\n",
        "print(np.percentile(C,25,axis=1))\n",
        "\n"
      ],
      "execution_count": null,
      "outputs": [
        {
          "output_type": "stream",
          "name": "stdout",
          "text": [
            "[[1 4 7]\n",
            " [2 5 8]\n",
            " [3 6 9]]\n",
            "punto 2\n",
            "[4. 5. 6.]\n",
            "[2. 5. 8.]\n",
            "punto 3\n",
            "[4.75 5.75 6.75]\n",
            "punto 4\n",
            "[2.5 3.5 4.5]\n"
          ]
        }
      ]
    },
    {
      "cell_type": "markdown",
      "metadata": {
        "id": "qRGnJjerjBkT"
      },
      "source": [
        "## Ejercicio 5\n",
        "\n",
        "Carguen la imagen data_science que se encuentra en el siguiente link: [texto del enlace](https://drive.google.com/file/d/1LoGybQ8t9g6orVp8Wh0uqU7BXY0kCzlh/view?usp=sharing) en la semana 1 del Bootcamp y realicen los siguientes procedimientos\n",
        "\n",
        "1. Muestrar la imagen tal como viene\n",
        "2. Averiguen que es un pixel y determinen cuantos pixeles tiene la imagen\n",
        "3. Recortar la imagen donde solo aparezca la palabra DATA\n",
        "4. Convertir la imagen a matriz y aplicar la funcion coseno\n",
        "5. Reemplazar los valores menores que 100 en la imagen original por 180 y graficar ¿Que observan, que modificaciones ocurrieron y porque?. **Sugerencia:** *Busquen acerca de que es la escala RGB y seguro comprenderan mejor*"
      ]
    },
    {
      "cell_type": "code",
      "metadata": {
        "colab": {
          "base_uri": "https://localhost:8080/"
        },
        "id": "5scG94T16xP-",
        "outputId": "88d87200-d831-4fa6-b3a8-f7155068d531"
      },
      "source": [
        "from google.colab import drive\n",
        "import os\n",
        "drive.mount('/content/gdrive')"
      ],
      "execution_count": null,
      "outputs": [
        {
          "output_type": "stream",
          "name": "stdout",
          "text": [
            "Drive already mounted at /content/gdrive; to attempt to forcibly remount, call drive.mount(\"/content/gdrive\", force_remount=True).\n"
          ]
        }
      ]
    },
    {
      "cell_type": "code",
      "metadata": {
        "colab": {
          "base_uri": "https://localhost:8080/"
        },
        "id": "w8XJWx5j6kSO",
        "outputId": "d5ba9ae0-0b66-475f-a4d6-91ca020c0e17"
      },
      "source": [
        "import os\n",
        "print(os.getcwd())\n",
        "print(os.getcwd())"
      ],
      "execution_count": null,
      "outputs": [
        {
          "output_type": "stream",
          "name": "stdout",
          "text": [
            "/content\n",
            "/content\n"
          ]
        }
      ]
    },
    {
      "cell_type": "code",
      "metadata": {
        "id": "VyKowRsp7Wkm"
      },
      "source": [
        "from skimage import io"
      ],
      "execution_count": null,
      "outputs": []
    },
    {
      "cell_type": "code",
      "metadata": {
        "id": "FwiWHIvj7t2V"
      },
      "source": [
        "dataimagen=io.imread('/content/gdrive/MyDrive/Bootcamp semana 1 python /Bootcamp  python /Semana 1 PYTHON /data_science.jpg')"
      ],
      "execution_count": null,
      "outputs": []
    },
    {
      "cell_type": "code",
      "metadata": {
        "colab": {
          "base_uri": "https://localhost:8080/"
        },
        "id": "uQJ5r2nc8alG",
        "outputId": "2eedb299-1b4a-43d3-f37e-70385e5e5a00"
      },
      "source": [
        "dataimagen.shape"
      ],
      "execution_count": null,
      "outputs": [
        {
          "output_type": "execute_result",
          "data": {
            "text/plain": [
              "(743, 1320, 3)"
            ]
          },
          "metadata": {},
          "execution_count": 15
        }
      ]
    },
    {
      "cell_type": "code",
      "metadata": {
        "colab": {
          "base_uri": "https://localhost:8080/",
          "height": 258
        },
        "id": "Jv2_ovWy8xN2",
        "outputId": "ab855b4c-f785-4b8b-fa81-f7c420b2ec6b"
      },
      "source": [
        "import matplotlib.pyplot as plt\n",
        "%matplotlib inline  \n",
        "plt.imshow(dataimagen)\n",
        "\n",
        "\n"
      ],
      "execution_count": null,
      "outputs": [
        {
          "output_type": "execute_result",
          "data": {
            "text/plain": [
              "<matplotlib.image.AxesImage at 0x7fca93c68c10>"
            ]
          },
          "metadata": {},
          "execution_count": 13
        },
        {
          "output_type": "display_data",
          "data": {
            "image/png": "[encoded data removed]",
            "text/plain": [
              "<Figure size 432x288 with 1 Axes>"
            ]
          },
          "metadata": {
            "needs_background": "light"
          }
        }
      ]
    },
    {
      "cell_type": "code",
      "source": [
        "plt.imshow(dataimagen[185:335, 140:620])"
      ],
      "metadata": {
        "colab": {
          "base_uri": "https://localhost:8080/",
          "height": 174
        },
        "id": "ICPqrvAUqD4s",
        "outputId": "4f1fcfd2-eca4-4bf6-88ce-1755488f0c83"
      },
      "execution_count": null,
      "outputs": [
        {
          "output_type": "execute_result",
          "data": {
            "text/plain": [
              "<matplotlib.image.AxesImage at 0x7fca8d444f10>"
            ]
          },
          "metadata": {},
          "execution_count": 26
        },
        {
          "output_type": "display_data",
          "data": {
            "image/png": "[encoded data removed]",
            "text/plain": [
              "<Figure size 432x288 with 1 Axes>"
            ]
          },
          "metadata": {
            "needs_background": "light"
          }
        }
      ]
    },
    {
      "cell_type": "code",
      "source": [
        "imagendata_cos = np.cos(dataimagen)\n",
        "print(imagendata_cos)"
      ],
      "metadata": {
        "colab": {
          "base_uri": "https://localhost:8080/"
        },
        "id": "FVhWTErAsKyc",
        "outputId": "25cf5bfa-7f43-405d-aacb-8d69eb1c9742"
      },
      "execution_count": null,
      "outputs": [
        {
          "output_type": "stream",
          "name": "stdout",
          "text": [
            "[[[-0.858   0.2323 -0.4949]\n",
            "  [-0.858   0.2323 -0.4949]\n",
            "  [-0.858   0.2323 -0.4949]\n",
            "  ...\n",
            "  [-0.858   0.2323 -0.4949]\n",
            "  [-0.858   0.2323 -0.4949]\n",
            "  [-0.858   0.2323 -0.4949]]\n",
            "\n",
            " [[-0.858   0.2323 -0.4949]\n",
            "  [-0.858   0.2323 -0.4949]\n",
            "  [-0.858   0.2323 -0.4949]\n",
            "  ...\n",
            "  [-0.858   0.2323 -0.4949]\n",
            "  [-0.858   0.2323 -0.4949]\n",
            "  [-0.858   0.2323 -0.4949]]\n",
            "\n",
            " [[-0.858   0.2323 -0.4949]\n",
            "  [-0.858   0.2323 -0.4949]\n",
            "  [-0.858   0.2323 -0.4949]\n",
            "  ...\n",
            "  [-0.858   0.2323 -0.4949]\n",
            "  [-0.858   0.2323 -0.4949]\n",
            "  [-0.858   0.2323 -0.4949]]\n",
            "\n",
            " ...\n",
            "\n",
            " [[-0.858   0.2323 -0.4949]\n",
            "  [-0.858   0.2323 -0.4949]\n",
            "  [-0.858   0.2323 -0.4949]\n",
            "  ...\n",
            "  [-0.858   0.2323 -0.4949]\n",
            "  [-0.858   0.2323 -0.4949]\n",
            "  [-0.858   0.2323 -0.4949]]\n",
            "\n",
            " [[-0.858   0.2323 -0.4949]\n",
            "  [-0.858   0.2323 -0.4949]\n",
            "  [-0.858   0.2323 -0.4949]\n",
            "  ...\n",
            "  [-0.858   0.2323 -0.4949]\n",
            "  [-0.858   0.2323 -0.4949]\n",
            "  [-0.858   0.2323 -0.4949]]\n",
            "\n",
            " [[-0.858   0.2323 -0.4949]\n",
            "  [-0.858   0.2323 -0.4949]\n",
            "  [-0.858   0.2323 -0.4949]\n",
            "  ...\n",
            "  [-0.858   0.2323 -0.4949]\n",
            "  [-0.858   0.2323 -0.4949]\n",
            "  [-0.858   0.2323 -0.4949]]]\n"
          ]
        }
      ]
    },
    {
      "cell_type": "code",
      "source": [
        "dataimagen_5= np.where(dataimagen<100, 180, 0)\n"
      ],
      "metadata": {
        "id": "iegD3zjDs3iR"
      },
      "execution_count": null,
      "outputs": []
    },
    {
      "cell_type": "code",
      "source": [
        "plt.imshow(dataimagen_5)"
      ],
      "metadata": {
        "colab": {
          "base_uri": "https://localhost:8080/",
          "height": 258
        },
        "id": "JokCNnkqttfa",
        "outputId": "c1fcdea5-5cba-409d-dbe1-c20c54ba22bd"
      },
      "execution_count": null,
      "outputs": [
        {
          "output_type": "execute_result",
          "data": {
            "text/plain": [
              "<matplotlib.image.AxesImage at 0x7fca8cbc6e50>"
            ]
          },
          "metadata": {},
          "execution_count": 39
        },
        {
          "output_type": "display_data",
          "data": {
            "image/png": "[encoded data removed]",
            "text/plain": [
              "<Figure size 432x288 with 1 Axes>"
            ]
          },
          "metadata": {
            "needs_background": "light"
          }
        }
      ]
    },
    {
      "cell_type": "markdown",
      "metadata": {
        "id": "dorf9BvH7tll"
      },
      "source": [
        ""
      ]
    },
    {
      "cell_type": "markdown",
      "metadata": {
        "id": "u_ND1NshzmGX"
      },
      "source": [
        "**EJERCICIOS SEMANA 2**\n"
      ]
    },
    {
      "cell_type": "markdown",
      "metadata": {
        "id": "I4j9xr8Rx5gD"
      },
      "source": [
        "## Ejercicio 1 : Listas\n",
        "\n",
        "Tienen la siguiente lista🏀⚾⚽🥤⭐\n",
        "\n",
        "```list1 = [10, 20, [300, 400, [5000, 6000], 500], 30, 40]```\n",
        "\n",
        "Se desea obtener el siguiente output **pero** usando solo el metódo ```append```:\n",
        "\n",
        "```[10, 20, [300, 400, [5000, 6000, 7000], 500], 30, 40]```"
      ]
    },
    {
      "cell_type": "code",
      "metadata": {
        "colab": {
          "base_uri": "https://localhost:8080/"
        },
        "id": "VnxlKeejz8Z-",
        "outputId": "13ae132b-d2bd-4a15-e183-f3d1d313a1aa"
      },
      "source": [
        "lista = [10, 20, [300, 400, [5000, 6000], 500], 30, 40]\n",
        "lista[2][2].append(7000)\n",
        "print(lista)\n"
      ],
      "execution_count": null,
      "outputs": [
        {
          "output_type": "stream",
          "name": "stdout",
          "text": [
            "[10, 20, [300, 400, [5000, 6000, 7000], 500], 30, 40]\n"
          ]
        }
      ]
    },
    {
      "cell_type": "markdown",
      "metadata": {
        "id": "e3xtcApf0kTI"
      },
      "source": [
        "## Ejercicio 2 : Sets\n",
        "Dados los siguientes conjuntos⛹✅☁⚽✨\n",
        "\n",
        "```s1 = {10, 20, 30, 40, 50}```\n",
        "\n",
        "```s2 = {30, 40, 50, 60, 70}```\n",
        "\n",
        "1. Como es posible obtener el siguiente output con alguno de los metódos vistos para sets\n",
        "\n",
        "```{40, 50, 30}```\n",
        "\n",
        "2. Como es posible obtener el siguiente output con alguno de los metódos vistos para sets\n",
        "\n",
        "```{70, 40, 10, 50, 20, 60, 30}```\n",
        "\n",
        "3. Extraer todos los elementos de s2 que no estan en s1"
      ]
    },
    {
      "cell_type": "code",
      "source": [
        "#punto 1 \n",
        "\n",
        "s1 = set ([10,20,30,40,50])\n",
        "type(s1)\n",
        "print(s1)\n",
        "\n",
        "s2= set([30,40,50,60,70])\n",
        "print(s2)"
      ],
      "metadata": {
        "colab": {
          "base_uri": "https://localhost:8080/"
        },
        "id": "kZy0oDvBiEie",
        "outputId": "a7bf0828-c3cb-4ff3-f961-04697be2423a"
      },
      "execution_count": null,
      "outputs": [
        {
          "output_type": "stream",
          "name": "stdout",
          "text": [
            "{40, 10, 50, 20, 30}\n",
            "{70, 40, 50, 60, 30}\n"
          ]
        }
      ]
    },
    {
      "cell_type": "code",
      "source": [
        "s3 = s2.intersection(s1)\n",
        "print(s3)\n"
      ],
      "metadata": {
        "colab": {
          "base_uri": "https://localhost:8080/"
        },
        "id": "V6HS3W1NnNeD",
        "outputId": "5cffada6-bc47-46f6-f50a-57ac572bab90"
      },
      "execution_count": null,
      "outputs": [
        {
          "output_type": "stream",
          "name": "stdout",
          "text": [
            "{40, 50, 30}\n"
          ]
        }
      ]
    },
    {
      "cell_type": "code",
      "source": [
        "s2.intersection(s1)"
      ],
      "metadata": {
        "colab": {
          "base_uri": "https://localhost:8080/"
        },
        "id": "WyytnYnKqYqZ",
        "outputId": "d92bc29c-16ca-4b2f-8406-bb50214ddf13"
      },
      "execution_count": null,
      "outputs": [
        {
          "output_type": "execute_result",
          "data": {
            "text/plain": [
              "{30, 40, 50}"
            ]
          },
          "metadata": {},
          "execution_count": 27
        }
      ]
    },
    {
      "cell_type": "code",
      "source": [
        "#punto numero 2\n",
        "\n",
        "s4= s2.union(s1)\n",
        "print(s4)"
      ],
      "metadata": {
        "colab": {
          "base_uri": "https://localhost:8080/"
        },
        "id": "eg8Dicznqey6",
        "outputId": "0e350a05-3f55-404e-880f-500f48545f68"
      },
      "execution_count": null,
      "outputs": [
        {
          "output_type": "stream",
          "name": "stdout",
          "text": [
            "{70, 40, 10, 50, 20, 60, 30}\n"
          ]
        }
      ]
    },
    {
      "cell_type": "code",
      "source": [
        "#punto 3\n",
        "s2.difference(s1)"
      ],
      "metadata": {
        "colab": {
          "base_uri": "https://localhost:8080/"
        },
        "id": "IKJ2LAK6oAo5",
        "outputId": "06d63f58-2147-4530-f2bd-a4130e8afaf3"
      },
      "execution_count": null,
      "outputs": [
        {
          "output_type": "execute_result",
          "data": {
            "text/plain": [
              "{60, 70}"
            ]
          },
          "metadata": {},
          "execution_count": 31
        }
      ]
    },
    {
      "cell_type": "code",
      "source": [
        ""
      ],
      "metadata": {
        "id": "15r66-Knxm59"
      },
      "execution_count": null,
      "outputs": []
    },
    {
      "cell_type": "markdown",
      "metadata": {
        "id": "yuSx-Esu2bgC"
      },
      "source": [
        "## Ejercicio 3: Tuplas\n",
        "\n",
        "Dada la siguiente tupla✈⏰♒⛹\n",
        "\n",
        "```tupla=(10, 20, 30, 40, 50)```\n",
        "\n",
        "Responder:\n",
        "\n",
        "1. Ordenar la tupla de mayor a menor\n",
        "2. Extraer los valores de la tupla en las siguientes variables: a,b,c,d,e\n",
        "3. Ahora suponga que tiene la siguiente tupla: \n",
        "```tupla_d = (11, [22, 33], 44, 55)```\n",
        "Recordando el concepto de inmutabilidad de las tuplas, sería posible poder modificar el valor **22** por **222** o en este caso no se puede?. Justifiquen"
      ]
    },
    {
      "cell_type": "code",
      "source": [
        "tupla=(10, 20, 30, 40, 50)\n",
        "\n",
        "\n",
        "#punto 1 \n",
        "\n",
        "print(tupla [::-1])\n",
        "\n",
        "\n",
        "#punto 2\n",
        "lis= list(tupla)\n",
        "\n",
        "a=lis[0]='a'\n",
        "b=lis[1]='b'\n",
        "c=lis[2]='c'\n",
        "d=lis[3]='d'\n",
        "e=lis[4]='e'\n",
        "print(lis)\n",
        "\n",
        "print(a,b,c,d,e)\n",
        "\n",
        "#punto 3 \n",
        "tupla_d = (11, [22, 33], 44, 55)\n",
        "tupla_d[1][0]=222\n",
        "print(tupla_d)\n",
        "\n",
        "\n"
      ],
      "metadata": {
        "colab": {
          "base_uri": "https://localhost:8080/"
        },
        "id": "WOQXY2m_xoIN",
        "outputId": "80f4d52a-e33b-4aea-97fb-0c463981dc74"
      },
      "execution_count": null,
      "outputs": [
        {
          "output_type": "stream",
          "name": "stdout",
          "text": [
            "(50, 40, 30, 20, 10)\n",
            "['a', 'b', 'c', 'd', 'e']\n",
            "a b c d e\n",
            "(11, [222, 33], 44, 55)\n"
          ]
        }
      ]
    },
    {
      "cell_type": "markdown",
      "source": [
        ""
      ],
      "metadata": {
        "id": "TIC2nplXP9FI"
      }
    },
    {
      "cell_type": "markdown",
      "metadata": {
        "id": "VvCeC9BS_40o"
      },
      "source": [
        "## Ejercicio 4: Diccionarios\n",
        "\n",
        "1. Supongan que tienen el siguiente diccionario similar a lo que se obtiene de una API ([texto del enlace](https://www.freecodecamp.org/news/what-is-an-api-in-english-please-b880a3214a82/)) \n",
        "```\n",
        "dict_david = {\n",
        "    \"clase\": {\n",
        "        \"estudiante\": {\n",
        "            \"nombre\": \"David\",\n",
        "            \"notas\": {\n",
        "                \"fisica\": 4.9,\n",
        "                \"matematicas\": 4.8\n",
        "            }\n",
        "        }\n",
        "    }\n",
        "}\n",
        "```\n",
        "\n",
        "Como se puede obtener el valor respectivo para la llave primaria ```matematicas```❗♥♨ℹ\n",
        "\n",
        "2. Con base en el siguiente diccionario, renombrar la llave primaria ciudad por ubicacion 🥱⏬⚡✉\n",
        "\n",
        "```dic_prueba = {\n",
        "  \"nombre\": \"Juan\",\n",
        "  \"edad\":25,\n",
        "  \"salario\": 8000000,\n",
        "  \"ciudad\": \"Santiago\"\n",
        "}\n",
        "```\n",
        "\n",
        "3. Obtener la llave primaria del valor minimo para el siguiente diccionario 😶🧵⚔♦\n",
        "\n",
        "```\n",
        "dicc = {\n",
        "  'Bayesiana': 4.5,\n",
        "  'Series Tiempo': 4.6,\n",
        "  'Calculo Actuarial': 4.2\n",
        "}\n",
        "```\n",
        "\n",
        "4. Con base en el siguiente diccionario✈⚔😀😼\n",
        "```\n",
        "dict_a = {\n",
        "    'e1': {'nombre': 'David', 'salario': 12000000},\n",
        "    'e2': {'nombre': 'Juan', 'salario': 7590000},\n",
        "    'e3': {'nombre': 'Amir', 'salario': 6787000}\n",
        "}\n",
        "```\n",
        "Reemplazar el valor de 7590000 de Juan por 8000000."
      ]
    },
    {
      "cell_type": "code",
      "source": [
        "#punto 1 \n",
        "dict_david = {\n",
        " \"clase\": {\n",
        "     \"estudiante\": {\n",
        "         \"nombre\": \"David\",\n",
        "         \"notas\": {\n",
        "             \"fisica\": 4.9,\n",
        "             \"matematicas\": 4.8\n",
        "         }\n",
        "     }\n",
        " }\n",
        "}"
      ],
      "metadata": {
        "id": "veXZZIxiQCef"
      },
      "execution_count": null,
      "outputs": []
    },
    {
      "cell_type": "code",
      "source": [
        ""
      ],
      "metadata": {
        "id": "DRFQ5MzSQxF3"
      },
      "execution_count": null,
      "outputs": []
    },
    {
      "cell_type": "code",
      "source": [
        "print(dict_david)\n",
        "\n"
      ],
      "metadata": {
        "colab": {
          "base_uri": "https://localhost:8080/"
        },
        "id": "7W6m49KPQQsn",
        "outputId": "cdb71efd-41b6-4151-ce4c-aac2e413b9fe"
      },
      "execution_count": null,
      "outputs": [
        {
          "output_type": "stream",
          "name": "stdout",
          "text": [
            "{'clase': {'estudiante': {'nombre': 'David', 'notas': {'fisica': 4.9, 'matematicas': 4.8}}}}\n"
          ]
        }
      ]
    },
    {
      "cell_type": "code",
      "source": [
        "#punto 1 \n",
        "print(dict_david['clase']['estudiante']['notas']['matematicas'])"
      ],
      "metadata": {
        "colab": {
          "base_uri": "https://localhost:8080/"
        },
        "id": "ZlADTdYsQy5p",
        "outputId": "fbac136f-fb54-4751-f652-62998b7e5aae"
      },
      "execution_count": null,
      "outputs": [
        {
          "output_type": "stream",
          "name": "stdout",
          "text": [
            "4.8\n"
          ]
        }
      ]
    },
    {
      "cell_type": "code",
      "source": [
        "#punto 2\n",
        "dic= {\"nombre\": \"Juan\",\n",
        "  \"edad\":25,\n",
        "  \"salario\": 8000000,\n",
        "  \"ciudad\": \"Santiago\"\n",
        "}\n",
        "print(dic)"
      ],
      "metadata": {
        "colab": {
          "base_uri": "https://localhost:8080/"
        },
        "id": "hbroMaDcVKtD",
        "outputId": "5b41917c-86a6-4ba3-dbf5-d89eacb58358"
      },
      "execution_count": null,
      "outputs": [
        {
          "output_type": "stream",
          "name": "stdout",
          "text": [
            "{'nombre': 'Juan', 'edad': 25, 'salario': 8000000, 'ciudad': 'Santiago'}\n"
          ]
        }
      ]
    },
    {
      "cell_type": "code",
      "source": [
        "\n",
        "dic['ubicacion']= dic.pop('ciudad')\n",
        "\n",
        "print(dic)\n",
        "\n",
        "\n",
        "\n"
      ],
      "metadata": {
        "colab": {
          "base_uri": "https://localhost:8080/"
        },
        "id": "fqGNf8KwabGV",
        "outputId": "c89a3565-e698-4604-f2c4-d08f7a02ee4f"
      },
      "execution_count": null,
      "outputs": [
        {
          "output_type": "stream",
          "name": "stdout",
          "text": [
            "{'nombre': 'Juan', 'edad': 25, 'salario': 8000000, 'ubicacion': 'Santiago'}\n"
          ]
        }
      ]
    },
    {
      "cell_type": "code",
      "source": [
        "#punto 3\n",
        "dicc = {\n",
        "  'Bayesiana': 4.5,\n",
        "  'Series Tiempo': 4.6,\n",
        "  'Calculo Actuarial': 4.2\n",
        "}\n",
        "\n",
        "print(dicc)\n",
        "\n",
        "print(min(dicc,key=dicc.get))"
      ],
      "metadata": {
        "colab": {
          "base_uri": "https://localhost:8080/"
        },
        "id": "Jv3V7Ljxb4GU",
        "outputId": "b500dc74-f87e-4d6d-be27-2a2aa0565bc4"
      },
      "execution_count": null,
      "outputs": [
        {
          "output_type": "stream",
          "name": "stdout",
          "text": [
            "{'Bayesiana': 4.5, 'Series Tiempo': 4.6, 'Calculo Actuarial': 4.2}\n",
            "Calculo Actuarial\n"
          ]
        }
      ]
    },
    {
      "cell_type": "code",
      "source": [
        "#punto 4\n",
        "dict_a = {\n",
        " 'e1': {'nombre': 'David', 'salario': 12000000},\n",
        " 'e2': {'nombre': 'Juan', 'salario': 7590000},\n",
        " 'e3': {'nombre': 'Amir', 'salario': 6787000}\n",
        "}\n",
        "\n",
        "dict_a['e2']['salario']=8000000\n",
        "\n",
        "print(dict_a)"
      ],
      "metadata": {
        "id": "vKj-tizmgbl9",
        "colab": {
          "base_uri": "https://localhost:8080/"
        },
        "outputId": "b21caee4-0277-4ee2-934f-c1933b1c59f7"
      },
      "execution_count": 4,
      "outputs": [
        {
          "output_type": "stream",
          "name": "stdout",
          "text": [
            "{'e1': {'nombre': 'David', 'salario': 12000000}, 'e2': {'nombre': 'Juan', 'salario': 8000000}, 'e3': {'nombre': 'Amir', 'salario': 6787000}}\n"
          ]
        }
      ]
    }
  ]
}