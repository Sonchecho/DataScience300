{
  "nbformat": 4,
  "nbformat_minor": 0,
  "metadata": {
    "colab": {
      "name": "Notas modulo 2 .ipynb",
      "provenance": [],
      "collapsed_sections": [],
      "authorship_tag": "ABX9TyNkTT8y0xBEWS8MRi6aD7aF",
      "include_colab_link": true
    },
    "kernelspec": {
      "name": "python3",
      "display_name": "Python 3"
    },
    "language_info": {
      "name": "python"
    }
  },
  "cells": [
    {
      "cell_type": "markdown",
      "metadata": {
        "id": "view-in-github",
        "colab_type": "text"
      },
      "source": [
        "<a href=\"https://colab.research.google.com/github/Sonchecho/DataScience300/blob/main/Notas_modulo_2_.ipynb\" target=\"_parent\"><img src=\"https://colab.research.google.com/assets/colab-badge.svg\" alt=\"Open In Colab\"/></a>"
      ]
    },
    {
      "cell_type": "code",
      "execution_count": 159,
      "metadata": {
        "colab": {
          "base_uri": "https://localhost:8080/"
        },
        "id": "347PA0f1mtOn",
        "outputId": "20cc39ae-2bd2-4b2a-8b82-9d4d28709ae4"
      },
      "outputs": [
        {
          "output_type": "stream",
          "name": "stdout",
          "text": [
            "[[2, 4, 5, 7], [8, 3, 1, 11], [14, 8, 10, 12], [9, 13, 15, None]]\n",
            "None\n",
            "3 3\n"
          ]
        }
      ],
      "source": [
        "#Forma de crear una matrix#\n",
        "import numpy as np \n",
        "matrix = [[2,4,5,7],[8,3,1,11],[14,8,10,12],[9,13,15,None]]\n",
        "print(matrix)\n",
        "# el numero de cilos depende del numero de dimenciones en este caso tenemos dos\n",
        "print(matrix[3][3])#esto sirve para ubicar el indice en este paso o es la priemra linea el indice 2 que es el 5  \n",
        "# ahora estamos buscando el numero 'none'\n",
        "for i in range(len(matrix)):\n",
        "   for j in range(len(matrix[0])):\n",
        "     if matrix[i][j]==None:\n",
        "       print(i,j)\n"
      ]
    },
    {
      "cell_type": "markdown",
      "source": [
        "NOTA : == EL DOBLE IGUAL ES PARA PREGUNTAR  SI ES ESA ¿VARIABLE? "
      ],
      "metadata": {
        "id": "yjBiqj2Y3kyp"
      }
    },
    {
      "cell_type": "markdown",
      "source": [
        "ACTIVIDAD, ENCONTRAR LOS NONE DE LAS MATRICES Y LOS NUMEROS ALREDEDOR "
      ],
      "metadata": {
        "id": "PpGQKfcC0Zki"
      }
    },
    {
      "cell_type": "code",
      "source": [
        "m0 = [[2, 4, 5, 7],\n",
        "     [ 8, 3, 1,11],\n",
        "     [14, 6,10,12],\n",
        "     [ 9,13,15,None]]\n",
        "\n",
        "m1 = [[2,    4,  5, 7],\n",
        "     [10, None,  1, 11],\n",
        "     [14,   6,  13, 8],\n",
        "     [ 9,  12,  15, 3]]\n",
        "\n",
        "m2 = [[  2,    4,  5, 7],\n",
        "     [  10,   14,  1, 11],\n",
        "     [None,    6,  10, 8],\n",
        "     [   9,   12,  15, 3]]\n",
        "print(m0[2],m0[3],m1[2]) \n",
        "for i in range(len(m0)) :\n",
        "  for j in range(len(m0[0])):\n",
        "    for x in range(len(m0[2:3])):\n",
        "     if m0[i][j]==None:\n",
        "       if m0[x]== 6:\n",
        "        print(i,j,x)\n",
        "      \n",
        "\n",
        "\n"
      ],
      "metadata": {
        "colab": {
          "base_uri": "https://localhost:8080/"
        },
        "id": "uqnkgIy812wV",
        "outputId": "2a0878f4-6b12-4249-8f45-1954ab138347"
      },
      "execution_count": 105,
      "outputs": [
        {
          "output_type": "stream",
          "name": "stdout",
          "text": [
            "[14, 6, 10, 12] [9, 13, 15, None] [14, 6, 13, 8]\n"
          ]
        }
      ]
    },
    {
      "cell_type": "code",
      "source": [
        "m1 = [[2,    4,  5, 7],\n",
        "     [10, None,  1, 11],\n",
        "     [14,   6,  13, 8],\n",
        "     [ 9,  12,  15, 3]]\n",
        "\n",
        "\n",
        "a = 1\n",
        "b = 1\n",
        " \n",
        "for i in range (a-2, a+2, 1):\n",
        "    for j in range (b-1, b+2, 1):\n",
        "        if i >= 0 and j >= 0:\n",
        "           print(m1[i][j])"
      ],
      "metadata": {
        "colab": {
          "base_uri": "https://localhost:8080/"
        },
        "id": "s5-yX4P7OjkR",
        "outputId": "797732d9-a831-48aa-9aa4-fb491f6902cb"
      },
      "execution_count": 140,
      "outputs": [
        {
          "output_type": "stream",
          "name": "stdout",
          "text": [
            "2\n",
            "4\n",
            "5\n",
            "10\n",
            "None\n",
            "1\n",
            "14\n",
            "6\n",
            "13\n"
          ]
        }
      ]
    },
    {
      "cell_type": "code",
      "source": [
        "m2 = [[  2,    4,  5, 7],\n",
        "     [  10,   14,  1, 11],\n",
        "     [None,    6,  10, 8],\n",
        "     [   9,   12,  15, 3]]\n",
        "\n",
        "x=2\n",
        "y=0\n",
        "\n",
        "for i in range (x-2, x+2):\n",
        "  for j in range (y-1, y+2):\n",
        "        if i >= 0 and j >= 0:\n",
        "           print(m2[i][j])\n"
      ],
      "metadata": {
        "colab": {
          "base_uri": "https://localhost:8080/"
        },
        "id": "k3qwwgfsSuYq",
        "outputId": "4c9e8d13-4f9f-416a-e1a9-e0e1d3b6cbcf"
      },
      "execution_count": 172,
      "outputs": [
        {
          "output_type": "stream",
          "name": "stdout",
          "text": [
            "2\n",
            "4\n",
            "10\n",
            "14\n",
            "None\n",
            "6\n",
            "9\n",
            "12\n"
          ]
        }
      ]
    },
    {
      "cell_type": "code",
      "source": [
        "print(m2[2][0])"
      ],
      "metadata": {
        "colab": {
          "base_uri": "https://localhost:8080/"
        },
        "id": "ie3mlyuSU7IN",
        "outputId": "0c20148a-ddc8-4cd6-830b-6d35474290f7"
      },
      "execution_count": 164,
      "outputs": [
        {
          "output_type": "stream",
          "name": "stdout",
          "text": [
            "None\n"
          ]
        }
      ]
    },
    {
      "cell_type": "code",
      "source": [
        ""
      ],
      "metadata": {
        "id": "Eppn_ThHSrw6"
      },
      "execution_count": null,
      "outputs": []
    },
    {
      "cell_type": "code",
      "source": [
        ""
      ],
      "metadata": {
        "id": "uCU5ccyl0ZEy"
      },
      "execution_count": null,
      "outputs": []
    },
    {
      "cell_type": "code",
      "source": [
        "L = [\n",
        "     [1,2,3],\n",
        "     [2,4,7],\n",
        "     [5,6,7]\n",
        "    ]\n",
        " \n",
        "L2 = []\n",
        " \n",
        "#Buscamos los vecinos de la posición L[1, 0]\n",
        " \n",
        "a = 2\n",
        "b = 2\n",
        "\n",
        " \n",
        "for i in range (a-1, a+2, 1):\n",
        "    for j in range (b-1, b+2, 1):\n",
        "        if i >= 0 and j >= 0:\n",
        "            print(L[i][j])"
      ],
      "metadata": {
        "colab": {
          "base_uri": "https://localhost:8080/",
          "height": 234
        },
        "id": "eNz2OtPsK645",
        "outputId": "819e0480-9588-498e-855b-924f63e5bccf"
      },
      "execution_count": 124,
      "outputs": [
        {
          "output_type": "stream",
          "name": "stdout",
          "text": [
            "4\n",
            "7\n"
          ]
        },
        {
          "output_type": "error",
          "ename": "IndexError",
          "evalue": "ignored",
          "traceback": [
            "\u001b[0;31m---------------------------------------------------------------------------\u001b[0m",
            "\u001b[0;31mIndexError\u001b[0m                                Traceback (most recent call last)",
            "\u001b[0;32m<ipython-input-124-e89575e5b6a2>\u001b[0m in \u001b[0;36m<module>\u001b[0;34m()\u001b[0m\n\u001b[1;32m     15\u001b[0m     \u001b[0;32mfor\u001b[0m \u001b[0mj\u001b[0m \u001b[0;32min\u001b[0m \u001b[0mrange\u001b[0m \u001b[0;34m(\u001b[0m\u001b[0mb\u001b[0m\u001b[0;34m-\u001b[0m\u001b[0;36m1\u001b[0m\u001b[0;34m,\u001b[0m \u001b[0mb\u001b[0m\u001b[0;34m+\u001b[0m\u001b[0;36m2\u001b[0m\u001b[0;34m,\u001b[0m \u001b[0;36m1\u001b[0m\u001b[0;34m)\u001b[0m\u001b[0;34m:\u001b[0m\u001b[0;34m\u001b[0m\u001b[0;34m\u001b[0m\u001b[0m\n\u001b[1;32m     16\u001b[0m         \u001b[0;32mif\u001b[0m \u001b[0mi\u001b[0m \u001b[0;34m>=\u001b[0m \u001b[0;36m0\u001b[0m \u001b[0;32mand\u001b[0m \u001b[0mj\u001b[0m \u001b[0;34m>=\u001b[0m \u001b[0;36m0\u001b[0m\u001b[0;34m:\u001b[0m\u001b[0;34m\u001b[0m\u001b[0;34m\u001b[0m\u001b[0m\n\u001b[0;32m---> 17\u001b[0;31m             \u001b[0mprint\u001b[0m\u001b[0;34m(\u001b[0m\u001b[0mL\u001b[0m\u001b[0;34m[\u001b[0m\u001b[0mi\u001b[0m\u001b[0;34m]\u001b[0m\u001b[0;34m[\u001b[0m\u001b[0mj\u001b[0m\u001b[0;34m]\u001b[0m\u001b[0;34m)\u001b[0m\u001b[0;34m\u001b[0m\u001b[0;34m\u001b[0m\u001b[0m\n\u001b[0m",
            "\u001b[0;31mIndexError\u001b[0m: list index out of range"
          ]
        }
      ]
    }
  ]
}