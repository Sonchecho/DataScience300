{
  "nbformat": 4,
  "nbformat_minor": 0,
  "metadata": {
    "colab": {
      "name": "clase1.ipynb",
      "provenance": [],
      "authorship_tag": "ABX9TyMh/wsm3EiyX+r4VVUnaVhi",
      "include_colab_link": true
    },
    "kernelspec": {
      "name": "python3",
      "display_name": "Python 3"
    },
    "language_info": {
      "name": "python"
    }
  },
  "cells": [
    {
      "cell_type": "markdown",
      "metadata": {
        "id": "view-in-github",
        "colab_type": "text"
      },
      "source": [
        "<a href=\"https://colab.research.google.com/github/Sonchecho/DataScience300/blob/main/clase1.ipynb\" target=\"_parent\"><img src=\"https://colab.research.google.com/assets/colab-badge.svg\" alt=\"Open In Colab\"/></a>"
      ]
    },
    {
      "cell_type": "code",
      "metadata": {
        "id": "1vHSHY6ooXf-"
      },
      "source": [
        ""
      ],
      "execution_count": null,
      "outputs": []
    },
    {
      "cell_type": "markdown",
      "metadata": {
        "id": "-LcXnLjfqgoO"
      },
      "source": [
        "**Introducción**\n",
        "\n",
        "Para manejar un codigo limpio en pytho, vamos a seguir las siguientes recomendacione:\n",
        "1. usar simepre minusculas \n",
        "2. se le puede añadir numero \n",
        "3. aparecera error si no estan seguidos la declaracion de la varialble con el numero asignado, es decir: checho1(corrector) checho 1 (error-incorrecto).\n",
        "\n",
        "en python hay varios tipos de datos compuestos y estan disponibles por defectos en los interpretes : \n",
        "**¿de que tipos?\n",
        "1. numericos \n",
        "2. secuencia \n",
        "3. mapeo \n",
        "4. cojunto usados para agrupar otros valores.\n",
        "\n",
        "**Diferencia entre constantes y variables **\n",
        "En matematicas llamamos contante a una magnitud que no cambia con el paso del tiempo.\n",
        "Ejemplo de contabilidad: gasto fijo de muebles de la oficina \n",
        "Ejemplo 2: 6\n",
        "\n",
        "Por otro lado, el concepto de variable, tomaremos la definicion como la cantidad que es susceptible a tomar distintos valores numericos.\n",
        "\n",
        "Ejemplos:     "
      ]
    },
    {
      "cell_type": "code",
      "metadata": {
        "id": "Zb-3B_Jps7Z5"
      },
      "source": [
        " "
      ],
      "execution_count": null,
      "outputs": []
    },
    {
      "cell_type": "markdown",
      "metadata": {
        "id": "XSNgsi5MtlEJ"
      },
      "source": [
        ""
      ]
    },
    {
      "cell_type": "code",
      "metadata": {
        "id": "lNm0Lu1-tmBp"
      },
      "source": [
        ""
      ],
      "execution_count": null,
      "outputs": []
    },
    {
      "cell_type": "markdown",
      "metadata": {
        "id": "zZVZiO9ytmN5"
      },
      "source": [
        "El comando int es para hacer alucion a numereros entero. A parte el comando float, permite valores con decimales. \n"
      ]
    },
    {
      "cell_type": "code",
      "metadata": {
        "colab": {
          "base_uri": "https://localhost:8080/"
        },
        "id": "mIuilyQyt5-q",
        "outputId": "9e5b8411-3aa5-4791-8c35-5150e1a01d1c"
      },
      "source": [
        "sa=float(4.567)\n",
        "print(sa, type(sa))"
      ],
      "execution_count": 4,
      "outputs": [
        {
          "output_type": "stream",
          "name": "stdout",
          "text": [
            "4.567 <class 'float'>\n"
          ]
        }
      ]
    },
    {
      "cell_type": "markdown",
      "metadata": {
        "id": "koKwKDzVuTBD"
      },
      "source": [
        "**Tipo Cadena**\n",
        "Las cadenas son textos encerrado entre comillas(simples o dobles) y se pueden conformar de diferentes caracteres (numerico, alfavetico,espciales #%$). Nota: Se puede usar el operador de suma \n",
        " "
      ]
    },
    {
      "cell_type": "code",
      "metadata": {
        "colab": {
          "base_uri": "https://localhost:8080/"
        },
        "id": "dIIL97rvuw2t",
        "outputId": "80387112-7280-41c9-c5d0-0a987f476a30"
      },
      "source": [
        "w=\"Mi computador es asus\"\n",
        "print(w)"
      ],
      "execution_count": 5,
      "outputs": [
        {
          "output_type": "stream",
          "name": "stdout",
          "text": [
            "Mi computador es asus\n"
          ]
        }
      ]
    },
    {
      "cell_type": "code",
      "metadata": {
        "colab": {
          "base_uri": "https://localhost:8080/"
        },
        "id": "FUvQFNMnvEBl",
        "outputId": "a2c13ff2-2125-40a1-cd4c-5ebaec141a63"
      },
      "source": [
        "n=\"1\"\n",
        "z=\"1\"\n",
        "dr=n+z\n",
        "print(dr, type(dr))\n",
        "\n",
        "f=56\n",
        "d=34\n",
        "print(f-d)"
      ],
      "execution_count": 10,
      "outputs": [
        {
          "output_type": "stream",
          "name": "stdout",
          "text": [
            "11 <class 'str'>\n",
            "22\n"
          ]
        }
      ]
    },
    {
      "cell_type": "markdown",
      "metadata": {
        "id": "jtHZYaKdwjIC"
      },
      "source": [
        "**Tipo Boolenos** Este tipo de variable solo tendra un valor de verdadero o falso. Nota: Son valores muy usados en condicionales y bucles \n",
        " "
      ]
    },
    {
      "cell_type": "code",
      "metadata": {
        "colab": {
          "base_uri": "https://localhost:8080/"
        },
        "id": "r_lD7nHEx8uT",
        "outputId": "8c1705b8-8a12-4f07-a3be-11b0a1bd6296"
      },
      "source": [
        "ricardo=True\n",
        "print(\"El valor es verdadero:\",ricardo,\",el cual es de tipo\", type(ricardo) )"
      ],
      "execution_count": 19,
      "outputs": [
        {
          "output_type": "stream",
          "name": "stdout",
          "text": [
            "El valor es verdadero: True ,el cual es de tipo <class 'bool'>\n"
          ]
        }
      ]
    },
    {
      "cell_type": "markdown",
      "metadata": {
        "id": "8gmCwPPZC4MB"
      },
      "source": [
        "**Productos**\n"
      ]
    },
    {
      "cell_type": "code",
      "metadata": {
        "colab": {
          "base_uri": "https://localhost:8080/"
        },
        "id": "yCuuJFE3C6bA",
        "outputId": "56a3b76d-0ad3-429f-b0fb-4aff48ebcbe1"
      },
      "source": [
        "motos_0={}\n",
        "motos_0['tam']='medio'\n",
        "motos_0['marca']='suzuki'\n",
        "motos_0['color']='verde'\n",
        "motos_0['cilindraje']=125\n",
        "motos_0['precio']=20\n",
        "\n",
        "\n",
        "motos_1={}\n",
        "motos_1['tam']='pequeña'\n",
        "motos_1['marca']='yamaha'\n",
        "motos_1['color']='negra'\n",
        "motos_1['cilindraje']=110\n",
        "motos_1['precio']=15\n",
        "\n",
        "motos_2={}\n",
        "motos_2['tam']='pequeña'\n",
        "motos_2['marca']='kawasaki'\n",
        "motos_2['color']='roja'\n",
        "motos_2['cilindraje']=750\n",
        "motos_2['precio']=50\n",
        "\n",
        "print(motos_0)\n",
        "print(motos_1)\n",
        "print(motos_2)\n",
        "\n",
        "\n",
        "\n",
        "compra0=motos_0['precio']\n",
        "compra1=motos_1['precio']\n",
        "compra2=motos_2['precio']\n",
        "compratotal=compra0+compra1+compra2\n",
        "print(\"la compra total fue de:\",compratotal)\n",
        "\n"
      ],
      "execution_count": 25,
      "outputs": [
        {
          "output_type": "stream",
          "name": "stdout",
          "text": [
            "{'tam': 'medio', 'marca': 'suzuki', 'color': 'verde', 'cilindraje': 125, 'precio': 20}\n",
            "{'tam': 'pequeña', 'marca': 'yamaha', 'color': 'negra', 'cilindraje': 110, 'precio': 15}\n",
            "{'tam': 'pequeña', 'marca': 'kawasaki', 'color': 'roja', 'cilindraje': 750, 'precio': 50}\n",
            "la compra total fue de: 85\n"
          ]
        }
      ]
    }
  ]
}