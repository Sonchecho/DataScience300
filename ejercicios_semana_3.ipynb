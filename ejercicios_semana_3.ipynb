{
  "nbformat": 4,
  "nbformat_minor": 0,
  "metadata": {
    "colab": {
      "name": "ejercicios semana 3.ipynb",
      "provenance": [],
      "collapsed_sections": [],
      "authorship_tag": "ABX9TyNl5HTeKpzSa7091OXcsswG",
      "include_colab_link": true
    },
    "kernelspec": {
      "name": "python3",
      "display_name": "Python 3"
    },
    "language_info": {
      "name": "python"
    }
  },
  "cells": [
    {
      "cell_type": "markdown",
      "metadata": {
        "id": "view-in-github",
        "colab_type": "text"
      },
      "source": [
        "<a href=\"https://colab.research.google.com/github/Sonchecho/DataScience300/blob/main/ejercicios_semana_3.ipynb\" target=\"_parent\"><img src=\"https://colab.research.google.com/assets/colab-badge.svg\" alt=\"Open In Colab\"/></a>"
      ]
    },
    {
      "cell_type": "code",
      "execution_count": null,
      "metadata": {
        "id": "rtaxkIH-YSR0"
      },
      "outputs": [],
      "source": [
        ""
      ]
    },
    {
      "cell_type": "markdown",
      "metadata": {
        "id": "_XBLq0MTOhWu"
      },
      "source": [
        "# Ejercicio 1\n",
        "\n",
        "Escribir un programa para mostrar sólo los números de una lista (dada) que cumplan las condiciones siguientes ✈⏰♥⌛⛸🏀\n",
        "\n",
        "```lista = [14, 75, 150, 180, 145, 525, 50, 10, 56,55]```\n",
        "\n",
        "1. El número debe ser divisible por cinco 🙏\n",
        "2. Si el número es mayor que 150, sáltelo y pase al siguiente número 🫂\n",
        "3. Si el número es mayor que 500, paren el bucle 🔊"
      ]
    },
    {
      "cell_type": "code",
      "source": [
        "lista = [14, 75, 150, 180, 145, 525, 50, 10, 56,55]\n",
        "#punto 1 \n",
        "for n in lista:\n",
        "  if n >500:\n",
        "    break\n",
        "  elif n > 150:\n",
        "      pass\n",
        "  elif n % 5 == 0:\n",
        "     print(n)\n"
      ],
      "metadata": {
        "colab": {
          "base_uri": "https://localhost:8080/"
        },
        "id": "IfhoH4YMYhws",
        "outputId": "4ad09fdc-36e2-4227-dae3-7b36055fc65a"
      },
      "execution_count": null,
      "outputs": [
        {
          "output_type": "stream",
          "name": "stdout",
          "text": [
            "75\n",
            "150\n",
            "145\n"
          ]
        }
      ]
    },
    {
      "cell_type": "markdown",
      "source": [
        "#Ejercicio 2#\n",
        "\n",
        "Escriba un programa para contar el número entero total de dígitos en un número usando un bucle while. ⚪❌💯👍⚡\n",
        "\n",
        "Por ejemplo, el número es 12345, por lo que la salida debe ser 5. 📷🥿🥲😕🔮"
      ],
      "metadata": {
        "id": "soOHwJuoIQFq"
      }
    },
    {
      "cell_type": "code",
      "source": [
        "num=12345\n",
        "x=0\n",
        "while num > 0:\n",
        "  num= num // 10\n",
        "  x+=1\n",
        "print(x)\n"
      ],
      "metadata": {
        "colab": {
          "base_uri": "https://localhost:8080/"
        },
        "id": "pCcjsbKaQkws",
        "outputId": "4fbfcc78-2843-4ddc-8364-fbae2ebb7b56"
      },
      "execution_count": null,
      "outputs": [
        {
          "output_type": "stream",
          "name": "stdout",
          "text": [
            "5\n"
          ]
        }
      ]
    },
    {
      "cell_type": "markdown",
      "metadata": {
        "id": "UQ1RHQk0Qam7"
      },
      "source": [
        "# Ejercicio 3\n",
        "\n",
        "Escriba un programa para usar en bucle para imprimir el siguiente patrón de números inverso. **Ayuda** *Pueden usar un loop anidado* ☣🙂🚒⛴🗃⛲\n",
        "\n",
        "```\n",
        "6 5 4 3 2 1\n",
        "5 4 3 2 1 \n",
        "4 3 2 1 \n",
        "3 2 1\n",
        "2 1 \n",
        "1\n",
        "```"
      ]
    },
    {
      "cell_type": "code",
      "source": [
        "a= 6\n",
        "b= 6\n",
        "for x in range(0,a+1):\n",
        "  for n in range(b-x,0,-1):\n",
        "     print(n,end=' ')\n",
        "  print()\n",
        "   \n"
      ],
      "metadata": {
        "colab": {
          "base_uri": "https://localhost:8080/"
        },
        "id": "b7LFTx_bTY-y",
        "outputId": "88da1ef3-ac98-44cc-b341-bc7298a396d2"
      },
      "execution_count": null,
      "outputs": [
        {
          "output_type": "stream",
          "name": "stdout",
          "text": [
            "6 5 4 3 2 1 \n",
            "5 4 3 2 1 \n",
            "4 3 2 1 \n",
            "3 2 1 \n",
            "2 1 \n",
            "1 \n",
            "\n"
          ]
        }
      ]
    },
    {
      "cell_type": "markdown",
      "metadata": {
        "id": "IQhoIRbzSOTv"
      },
      "source": [
        "# Ejercicio 4\n",
        "\n",
        "Escriba un programa para calcular la suma de la siguiente serie hasta el n-ésimo término. 🧉👒😵🧭🈹🥸\n",
        "\n",
        "$$3+33+333+3333+33333+.....$$\n",
        "\n",
        "Por ejemplo, si n = 5 la serie se convertirá en 3 + 33 + 333 + 3333 + 33333 = 37035 🥸💵🐬⚓♊"
      ]
    },
    {
      "cell_type": "code",
      "source": [
        "x= int(input('coloque valor x'))\n",
        "primero =3\n",
        "sum= 0\n",
        "\n",
        "for n in range(0,x):\n",
        "   print(primero,end='+')\n",
        "   sum+=primero\n",
        "   primero=primero*10+3\n",
        "print('=suma de la serie:',sum)"
      ],
      "metadata": {
        "colab": {
          "base_uri": "https://localhost:8080/"
        },
        "id": "t4TIznXKbLbh",
        "outputId": "b1ad7080-e959-4d84-a178-0b494948fbcd"
      },
      "execution_count": null,
      "outputs": [
        {
          "output_type": "stream",
          "name": "stdout",
          "text": [
            "coloque valor x6\n",
            "3+33+333+3333+33333+333333+=suma de la serie: 370368\n"
          ]
        }
      ]
    },
    {
      "cell_type": "markdown",
      "metadata": {
        "id": "H1B88LgXUJqZ"
      },
      "source": [
        "# Ejercicio 5\n",
        "\n",
        "Crear una función que se llama ```funcion_xy``` que tome como argumento una lista de **numeros enteros** (dada, ver mas abajo) y adicionalmente permita la posibilidad de incorporar parametros adicionales ```*args```y ```**kargs```. \n",
        "\n",
        "```lista=[2,1,3,5,4,7,9,8,6,10]```\n",
        "\n",
        "Se requiere que la funcion tenga las siguientes caracteristicas\n",
        "\n",
        "```*args```\n",
        "\n",
        "1. Ordene la lista de menor a mayor y la devuelva como salida.\n",
        "2. Extraiga y muestre solo los numeros pares\n",
        "3. Calcular la media recortada al 10% de la lista. Para eso pueden utilizar importar la siguiente librería:     \n",
        "```from scipy import stats```\n",
        "Y utilizar la función ```stats.trim_mean(lista, 0.1, axis=0)```\n",
        "\n",
        "```**kargs```\n",
        "\n",
        "1. ```reverse == True``` => Debera invertir la lista \n",
        "2. ```odd == True``` => retorna una lista con los nombres 'pares' e 'impares' para cada posicion\n",
        "3. ```filter == True``` => extraer los valores mayores a 4 y mostrarlos\n",
        "\n",
        "\n",
        "**Nota :** En todos los casos n olviden la importancia del return y traten de aplicar todos los conceptos que hemos visto para resolver de la manera más eficiente posible."
      ]
    },
    {
      "cell_type": "code",
      "source": [
        "from scipy import stats \n",
        "\n",
        "def funcionxy(l,*args,**kargs):\n",
        "  if args[0]==1:\n",
        "    print('ordenar lista')\n",
        "    a=np.sort(l)\n",
        "    return a \n",
        "  elif args[0]==2:\n",
        "    print('extrayendo pares')\n",
        "    b=[x for x in l if x%2==0]\n",
        "    return b \n",
        "  elif args[0]==3:\n",
        "    print('calculando media recortada 10%')\n",
        "    c=stats.trim_mean(l,0.1,axis=0)\n",
        "    return c \n",
        "\n",
        "if kargs.keys():\n",
        "  print('hay parametros complejos')\n",
        "  print(kargs)\n",
        "  if 'reserve' in kargs.keys():\n",
        "      if kargs['reverse']== True:\n",
        "          l.reverse\n",
        "          return l\n",
        "  elif 'odd' in kargs.keys():\n",
        "      if kargs ['odd']== True:\n",
        "\n",
        "         result=[]\n",
        "         for i in l:\n",
        "             if i % 2==0:\n",
        "                result.append('par')\n",
        "             else:\n",
        "                result.append('impar')\n",
        "         return result\n",
        "  elif 'filter' in kargs.keys():\n",
        "      if kargs ['filter']== True:\n",
        "\n",
        "          e= [x for x in l if x>4]\n",
        "          return  e \n",
        "\n",
        "    "
      ],
      "metadata": {
        "id": "QBBVAhAxnY6V"
      },
      "execution_count": null,
      "outputs": []
    }
  ]
}